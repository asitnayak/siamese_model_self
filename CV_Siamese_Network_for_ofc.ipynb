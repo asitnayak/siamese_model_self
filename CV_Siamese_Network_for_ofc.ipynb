{
  "cells": [
    {
      "cell_type": "code",
      "execution_count": null,
      "metadata": {
        "id": "XmWliPxLekiY"
      },
      "outputs": [],
      "source": [
        "# Installing Cudnn\n",
        "!apt-cache policy libcudnn8\n",
        "\n",
        "# Install latest version\n",
        "!apt install --allow-change-held-packages libcudnn8=8.4.1.50-1+cuda11.6\n",
        "\n",
        "# Export env variables\n",
        "!export PATH=/usr/local/cuda-11.4/bin${PATH:+:${PATH}}\n",
        "!export LD_LIBRARY_PATH=/usr/local/cuda-11.4/lib64:$LD_LIBRARY_PATH\n",
        "!export LD_LIBRARY_PATH=/usr/local/cuda-11.4/include:$LD_LIBRARY_PATH\n",
        "!export LD_LIBRARY_PATH=$LD_LIBRARY_PATH:/usr/local/cuda/extras/CUPTI/lib64\n",
        "\n",
        "# Install tensorflow\n",
        "!pip install tflite-model-maker==0.4.0\n",
        "!pip uninstall -y tensorflow && pip install -q tensorflow==2.8.0\n",
        "!pip install pycocotools==2.0.4\n",
        "!pip install opencv-python-headless==4.6.0.66\n",
        "!pip install tensorflow-io==0.25.0\n",
        "!pip install tensorflow-addons"
      ]
    },
    {
      "cell_type": "code",
      "execution_count": 2,
      "metadata": {
        "id": "cTVfNmamekdp"
      },
      "outputs": [],
      "source": [
        "# import libraries\n",
        "\n",
        "import sys\n",
        "import numpy as np\n",
        "import pickle\n",
        "import os\n",
        "import matplotlib.pyplot as plt\n",
        "import pandas as pd\n",
        "%matplotlib inline\n",
        "\n",
        "import cv2 as cv\n",
        "import time\n",
        "import itertools\n",
        "import random\n",
        "\n",
        "\n",
        "import tensorflow as tf\n",
        "import keras\n",
        "from tensorflow.keras.models import Sequential\n",
        "from tensorflow.keras.optimizers import Adam, RMSprop\n",
        "from tensorflow.keras.layers import Conv2D, ZeroPadding2D, Activation, Input, concatenate, Dropout\n",
        "from tensorflow.keras.models import Model\n",
        "\n",
        "from tensorflow.keras.layers import BatchNormalization\n",
        "from tensorflow.keras.layers import MaxPooling2D\n",
        "from tensorflow.keras.layers import Concatenate\n",
        "from tensorflow.keras.layers import Lambda, Flatten, Dense\n",
        "from tensorflow.keras.initializers import glorot_uniform\n",
        "import tensorflow_io as tfio\n",
        "from tensorflow.keras.applications import resnet\n",
        "from tensorflow.keras import layers\n",
        "from tensorflow.keras.utils import plot_model\n",
        "from google.colab.patches import cv2_imshow\n",
        "import matplotlib.image as mpimg\n",
        "from tensorflow.keras import applications\n",
        "from tensorflow.keras import metrics\n",
        "\n",
        "\n",
        "from tensorflow.keras.regularizers import l2\n",
        "from tensorflow.keras import backend as K\n",
        "from keras.callbacks import EarlyStopping, ModelCheckpoint, ReduceLROnPlateau\n",
        "import datetime\n",
        "import warnings\n",
        "import matplotlib.image as mpimg\n",
        "from functools import reduce\n",
        "warnings.filterwarnings('ignore')"
      ]
    },
    {
      "cell_type": "code",
      "execution_count": 3,
      "metadata": {
        "colab": {
          "base_uri": "https://localhost:8080/"
        },
        "id": "N4py7vMdekax",
        "outputId": "2d6855e2-b833-4ce7-ca46-dfa8ba30d74f"
      },
      "outputs": [
        {
          "output_type": "stream",
          "name": "stdout",
          "text": [
            "Requirement already satisfied: gdown in /usr/local/lib/python3.10/dist-packages (5.2.0)\n",
            "Requirement already satisfied: beautifulsoup4 in /usr/local/lib/python3.10/dist-packages (from gdown) (4.12.3)\n",
            "Requirement already satisfied: filelock in /usr/local/lib/python3.10/dist-packages (from gdown) (3.16.1)\n",
            "Requirement already satisfied: requests[socks] in /usr/local/lib/python3.10/dist-packages (from gdown) (2.32.3)\n",
            "Requirement already satisfied: tqdm in /usr/local/lib/python3.10/dist-packages (from gdown) (4.66.5)\n",
            "Requirement already satisfied: soupsieve>1.2 in /usr/local/lib/python3.10/dist-packages (from beautifulsoup4->gdown) (2.6)\n",
            "Requirement already satisfied: charset-normalizer<4,>=2 in /usr/local/lib/python3.10/dist-packages (from requests[socks]->gdown) (3.4.0)\n",
            "Requirement already satisfied: idna<4,>=2.5 in /usr/local/lib/python3.10/dist-packages (from requests[socks]->gdown) (3.10)\n",
            "Requirement already satisfied: urllib3<3,>=1.21.1 in /usr/local/lib/python3.10/dist-packages (from requests[socks]->gdown) (2.2.3)\n",
            "Requirement already satisfied: certifi>=2017.4.17 in /usr/local/lib/python3.10/dist-packages (from requests[socks]->gdown) (2024.8.30)\n",
            "Requirement already satisfied: PySocks!=1.5.7,>=1.5.6 in /usr/local/lib/python3.10/dist-packages (from requests[socks]->gdown) (1.7.1)\n"
          ]
        }
      ],
      "source": [
        "!pip install gdown"
      ]
    },
    {
      "cell_type": "code",
      "execution_count": 4,
      "metadata": {
        "colab": {
          "base_uri": "https://localhost:8080/"
        },
        "id": "QpkNLxRpekYL",
        "outputId": "1dc862b6-1499-46ad-db3d-b6909ac35ca0"
      },
      "outputs": [
        {
          "output_type": "stream",
          "name": "stdout",
          "text": [
            "/usr/local/lib/python3.10/dist-packages/gdown/__main__.py:140: FutureWarning: Option `--id` was deprecated in version 4.3.1 and will be removed in 5.0. You don't need to pass it anymore to use a file ID.\n",
            "  warnings.warn(\n",
            "Downloading...\n",
            "From (original): https://drive.google.com/uc?id=0B29vNACcjvzVc1RfVkg5dUh2b1E\n",
            "From (redirected): https://drive.google.com/uc?id=0B29vNACcjvzVc1RfVkg5dUh2b1E&confirm=t&uuid=31a34612-ed90-459a-a5c8-ba6c10b0059b\n",
            "To: /content/BHSig260.zip\n",
            "100% 48.5M/48.5M [00:01<00:00, 35.3MB/s]\n"
          ]
        }
      ],
      "source": [
        "!gdown --id 0B29vNACcjvzVc1RfVkg5dUh2b1E"
      ]
    },
    {
      "cell_type": "markdown",
      "metadata": {
        "id": "zkzZImb1f7sR"
      },
      "source": [
        "## About the Dataset\n",
        "\n",
        "- The dataset consists of 2 directories Hindi and Bengali Signatures.\n",
        "- The Hindi directory consists of 160 sub-directories which are the signatures of 160 people\n",
        "- The Bengali directory consists of 100 sub-directories which are the signatures of 100 people.\n",
        "- Each person has 24 genuine Signatures followerd by  30 forged signatures."
      ]
    },
    {
      "cell_type": "code",
      "execution_count": 5,
      "metadata": {
        "id": "_qNHbGwkekU3"
      },
      "outputs": [],
      "source": [
        "!mkdir signatures"
      ]
    },
    {
      "cell_type": "code",
      "execution_count": null,
      "metadata": {
        "id": "5AqtZm_uekSQ"
      },
      "outputs": [],
      "source": [
        "! unzip BHSig260.zip -d signatures"
      ]
    },
    {
      "cell_type": "code",
      "execution_count": 7,
      "metadata": {
        "id": "h9VNvCz8ekPl"
      },
      "outputs": [],
      "source": [
        "path = \"./signatures/BHSig260/Hindi/\""
      ]
    },
    {
      "cell_type": "code",
      "execution_count": null,
      "metadata": {
        "id": "Bjt3dv4rekMt"
      },
      "outputs": [],
      "source": [
        "dir_list = next(os.walk(path))[1]"
      ]
    },
    {
      "cell_type": "code",
      "execution_count": null,
      "metadata": {
        "id": "7vz3HwjDekKI"
      },
      "outputs": [],
      "source": [
        "dir_list.sort()"
      ]
    },
    {
      "cell_type": "code",
      "execution_count": null,
      "metadata": {
        "colab": {
          "base_uri": "https://localhost:8080/"
        },
        "id": "7pJVV2-rekHQ",
        "outputId": "4b888e04-7e07-4ab8-fb0f-a00f8f2ee1cb"
      },
      "outputs": [
        {
          "name": "stdout",
          "output_type": "stream",
          "text": [
            "160\n"
          ]
        },
        {
          "data": {
            "text/plain": [
              "['001', '002', '003', '004', '005', '006']"
            ]
          },
          "execution_count": 11,
          "metadata": {},
          "output_type": "execute_result"
        }
      ],
      "source": [
        "print(len(dir_list))\n",
        "dir_list[:6]"
      ]
    },
    {
      "cell_type": "markdown",
      "metadata": {
        "id": "LuFWvs2l2h4H"
      },
      "source": [
        "For each person segregate the genuine signatures from the forged signatures\n",
        "Genuine signatures are stored in the list **orig_groups**\n",
        "Forged signatures are stored in the list **forged_groups**\n",
        "\n",
        "---\n",
        "Here, First 30 signatures in each folder are **forged**\n",
        "Next 24 signatures are **genuine**\n",
        "\n",
        "\n"
      ]
    },
    {
      "cell_type": "code",
      "execution_count": null,
      "metadata": {
        "id": "JxTPmhjjekEZ"
      },
      "outputs": [],
      "source": [
        "orig_groups, forged_groups = [], []\n",
        "for directory in dir_list:\n",
        "  images = os.listdir(path+directory)\n",
        "  images.sort()\n",
        "  images = [path+directory+'/'+x for x in images]\n",
        "  forged_groups.append(images[:30])\n",
        "  orig_groups.append(images[30:])"
      ]
    },
    {
      "cell_type": "code",
      "execution_count": null,
      "metadata": {
        "colab": {
          "base_uri": "https://localhost:8080/"
        },
        "id": "x3hzGGbeekBx",
        "outputId": "138a426b-0ad5-4606-b5b8-a5aa0a694ea9"
      },
      "outputs": [
        {
          "data": {
            "text/plain": [
              "(30, 24)"
            ]
          },
          "execution_count": 13,
          "metadata": {},
          "output_type": "execute_result"
        }
      ],
      "source": [
        "len(forged_groups[0]), len(orig_groups[0])"
      ]
    },
    {
      "cell_type": "code",
      "execution_count": null,
      "metadata": {
        "colab": {
          "base_uri": "https://localhost:8080/"
        },
        "id": "X3hUys5c4ZZS",
        "outputId": "934104fa-693d-43ba-e153-bbe3631e702b"
      },
      "outputs": [
        {
          "data": {
            "text/plain": [
              "(160, 160)"
            ]
          },
          "execution_count": 14,
          "metadata": {},
          "output_type": "execute_result"
        }
      ],
      "source": [
        "# we had 160 individuals\n",
        "len(forged_groups), len(orig_groups)"
      ]
    },
    {
      "cell_type": "markdown",
      "metadata": {
        "id": "goFXWWrB6AA-"
      },
      "source": [
        "To train a model for Signature verification, we need a **input image** and a **validation image** to check whether the validation image is a forgery or not.\n",
        "\n",
        "In our Dataset, we have a file a **Hindi_pairs.txt**. It consists of image pairs and their respective label.\n",
        "\n",
        "For example,\n",
        "\n",
        "- **001/H-S-1-G-01.tif** is Genuine signature of a person\n",
        "- **001/H-S-1-F-01.tif** is Forgery signature of the same person\n",
        "\n",
        "So the label of this pair will be 0\n",
        "- If both the images are Genuine signature of the person, then the label will be 1\n",
        "\n",
        "\n",
        "Now let's use this dataset and visualize the pairs for better understanding"
      ]
    },
    {
      "cell_type": "code",
      "execution_count": null,
      "metadata": {
        "id": "fGidAEY0ej-q"
      },
      "outputs": [],
      "source": [
        "pairs = pd.read_csv(path+\"Hindi_pairs.txt\",delimiter=\" \",header=None)"
      ]
    },
    {
      "cell_type": "code",
      "source": [
        "/content/signatures/BHSig260"
      ],
      "metadata": {
        "id": "i9UW8xf8We3C"
      },
      "execution_count": null,
      "outputs": []
    },
    {
      "cell_type": "code",
      "execution_count": null,
      "metadata": {
        "colab": {
          "base_uri": "https://localhost:8080/",
          "height": 206
        },
        "id": "iYp0pMuAej8L",
        "outputId": "ebf863a6-8044-4c7d-9968-c68e3dd04e74"
      },
      "outputs": [
        {
          "data": {
            "application/vnd.google.colaboratory.intrinsic+json": {
              "summary": "{\n  \"name\": \"pairs\",\n  \"rows\": 8964,\n  \"fields\": [\n    {\n      \"column\": 0,\n      \"properties\": {\n        \"dtype\": \"category\",\n        \"num_unique_values\": 216,\n        \"samples\": [\n          \"009/H-S-9-G-10.tif\",\n          \"009/H-S-9-G-22.tif\",\n          \"006/H-S-6-G-19.tif\"\n        ],\n        \"semantic_type\": \"\",\n        \"description\": \"\"\n      }\n    },\n    {\n      \"column\": 1,\n      \"properties\": {\n        \"dtype\": \"category\",\n        \"num_unique_values\": 477,\n        \"samples\": [\n          \"009/H-S-9-G-15.tif\",\n          \"001/H-S-1-G-04.tif\",\n          \"003/H-S-3-F-26.tif\"\n        ],\n        \"semantic_type\": \"\",\n        \"description\": \"\"\n      }\n    },\n    {\n      \"column\": 2,\n      \"properties\": {\n        \"dtype\": \"number\",\n        \"std\": 0,\n        \"min\": 0,\n        \"max\": 1,\n        \"num_unique_values\": 2,\n        \"samples\": [\n          1,\n          0\n        ],\n        \"semantic_type\": \"\",\n        \"description\": \"\"\n      }\n    }\n  ]\n}",
              "type": "dataframe",
              "variable_name": "pairs"
            },
            "text/html": [
              "\n",
              "  <div id=\"df-6c3f6b18-7e51-4df4-ba53-3fd6f804c85b\" class=\"colab-df-container\">\n",
              "    <div>\n",
              "<style scoped>\n",
              "    .dataframe tbody tr th:only-of-type {\n",
              "        vertical-align: middle;\n",
              "    }\n",
              "\n",
              "    .dataframe tbody tr th {\n",
              "        vertical-align: top;\n",
              "    }\n",
              "\n",
              "    .dataframe thead th {\n",
              "        text-align: right;\n",
              "    }\n",
              "</style>\n",
              "<table border=\"1\" class=\"dataframe\">\n",
              "  <thead>\n",
              "    <tr style=\"text-align: right;\">\n",
              "      <th></th>\n",
              "      <th>0</th>\n",
              "      <th>1</th>\n",
              "      <th>2</th>\n",
              "    </tr>\n",
              "  </thead>\n",
              "  <tbody>\n",
              "    <tr>\n",
              "      <th>0</th>\n",
              "      <td>001/H-S-1-G-01.tif</td>\n",
              "      <td>001/H-S-1-F-01.tif</td>\n",
              "      <td>0</td>\n",
              "    </tr>\n",
              "    <tr>\n",
              "      <th>1</th>\n",
              "      <td>001/H-S-1-G-02.tif</td>\n",
              "      <td>001/H-S-1-F-01.tif</td>\n",
              "      <td>0</td>\n",
              "    </tr>\n",
              "    <tr>\n",
              "      <th>2</th>\n",
              "      <td>001/H-S-1-G-03.tif</td>\n",
              "      <td>001/H-S-1-F-01.tif</td>\n",
              "      <td>0</td>\n",
              "    </tr>\n",
              "    <tr>\n",
              "      <th>3</th>\n",
              "      <td>001/H-S-1-G-04.tif</td>\n",
              "      <td>001/H-S-1-F-01.tif</td>\n",
              "      <td>0</td>\n",
              "    </tr>\n",
              "    <tr>\n",
              "      <th>4</th>\n",
              "      <td>001/H-S-1-G-05.tif</td>\n",
              "      <td>001/H-S-1-F-01.tif</td>\n",
              "      <td>0</td>\n",
              "    </tr>\n",
              "  </tbody>\n",
              "</table>\n",
              "</div>\n",
              "    <div class=\"colab-df-buttons\">\n",
              "\n",
              "  <div class=\"colab-df-container\">\n",
              "    <button class=\"colab-df-convert\" onclick=\"convertToInteractive('df-6c3f6b18-7e51-4df4-ba53-3fd6f804c85b')\"\n",
              "            title=\"Convert this dataframe to an interactive table.\"\n",
              "            style=\"display:none;\">\n",
              "\n",
              "  <svg xmlns=\"http://www.w3.org/2000/svg\" height=\"24px\" viewBox=\"0 -960 960 960\">\n",
              "    <path d=\"M120-120v-720h720v720H120Zm60-500h600v-160H180v160Zm220 220h160v-160H400v160Zm0 220h160v-160H400v160ZM180-400h160v-160H180v160Zm440 0h160v-160H620v160ZM180-180h160v-160H180v160Zm440 0h160v-160H620v160Z\"/>\n",
              "  </svg>\n",
              "    </button>\n",
              "\n",
              "  <style>\n",
              "    .colab-df-container {\n",
              "      display:flex;\n",
              "      gap: 12px;\n",
              "    }\n",
              "\n",
              "    .colab-df-convert {\n",
              "      background-color: #E8F0FE;\n",
              "      border: none;\n",
              "      border-radius: 50%;\n",
              "      cursor: pointer;\n",
              "      display: none;\n",
              "      fill: #1967D2;\n",
              "      height: 32px;\n",
              "      padding: 0 0 0 0;\n",
              "      width: 32px;\n",
              "    }\n",
              "\n",
              "    .colab-df-convert:hover {\n",
              "      background-color: #E2EBFA;\n",
              "      box-shadow: 0px 1px 2px rgba(60, 64, 67, 0.3), 0px 1px 3px 1px rgba(60, 64, 67, 0.15);\n",
              "      fill: #174EA6;\n",
              "    }\n",
              "\n",
              "    .colab-df-buttons div {\n",
              "      margin-bottom: 4px;\n",
              "    }\n",
              "\n",
              "    [theme=dark] .colab-df-convert {\n",
              "      background-color: #3B4455;\n",
              "      fill: #D2E3FC;\n",
              "    }\n",
              "\n",
              "    [theme=dark] .colab-df-convert:hover {\n",
              "      background-color: #434B5C;\n",
              "      box-shadow: 0px 1px 3px 1px rgba(0, 0, 0, 0.15);\n",
              "      filter: drop-shadow(0px 1px 2px rgba(0, 0, 0, 0.3));\n",
              "      fill: #FFFFFF;\n",
              "    }\n",
              "  </style>\n",
              "\n",
              "    <script>\n",
              "      const buttonEl =\n",
              "        document.querySelector('#df-6c3f6b18-7e51-4df4-ba53-3fd6f804c85b button.colab-df-convert');\n",
              "      buttonEl.style.display =\n",
              "        google.colab.kernel.accessAllowed ? 'block' : 'none';\n",
              "\n",
              "      async function convertToInteractive(key) {\n",
              "        const element = document.querySelector('#df-6c3f6b18-7e51-4df4-ba53-3fd6f804c85b');\n",
              "        const dataTable =\n",
              "          await google.colab.kernel.invokeFunction('convertToInteractive',\n",
              "                                                    [key], {});\n",
              "        if (!dataTable) return;\n",
              "\n",
              "        const docLinkHtml = 'Like what you see? Visit the ' +\n",
              "          '<a target=\"_blank\" href=https://colab.research.google.com/notebooks/data_table.ipynb>data table notebook</a>'\n",
              "          + ' to learn more about interactive tables.';\n",
              "        element.innerHTML = '';\n",
              "        dataTable['output_type'] = 'display_data';\n",
              "        await google.colab.output.renderOutput(dataTable, element);\n",
              "        const docLink = document.createElement('div');\n",
              "        docLink.innerHTML = docLinkHtml;\n",
              "        element.appendChild(docLink);\n",
              "      }\n",
              "    </script>\n",
              "  </div>\n",
              "\n",
              "\n",
              "<div id=\"df-03c9f0d5-a617-4989-984d-44c02fc4c41c\">\n",
              "  <button class=\"colab-df-quickchart\" onclick=\"quickchart('df-03c9f0d5-a617-4989-984d-44c02fc4c41c')\"\n",
              "            title=\"Suggest charts\"\n",
              "            style=\"display:none;\">\n",
              "\n",
              "<svg xmlns=\"http://www.w3.org/2000/svg\" height=\"24px\"viewBox=\"0 0 24 24\"\n",
              "     width=\"24px\">\n",
              "    <g>\n",
              "        <path d=\"M19 3H5c-1.1 0-2 .9-2 2v14c0 1.1.9 2 2 2h14c1.1 0 2-.9 2-2V5c0-1.1-.9-2-2-2zM9 17H7v-7h2v7zm4 0h-2V7h2v10zm4 0h-2v-4h2v4z\"/>\n",
              "    </g>\n",
              "</svg>\n",
              "  </button>\n",
              "\n",
              "<style>\n",
              "  .colab-df-quickchart {\n",
              "      --bg-color: #E8F0FE;\n",
              "      --fill-color: #1967D2;\n",
              "      --hover-bg-color: #E2EBFA;\n",
              "      --hover-fill-color: #174EA6;\n",
              "      --disabled-fill-color: #AAA;\n",
              "      --disabled-bg-color: #DDD;\n",
              "  }\n",
              "\n",
              "  [theme=dark] .colab-df-quickchart {\n",
              "      --bg-color: #3B4455;\n",
              "      --fill-color: #D2E3FC;\n",
              "      --hover-bg-color: #434B5C;\n",
              "      --hover-fill-color: #FFFFFF;\n",
              "      --disabled-bg-color: #3B4455;\n",
              "      --disabled-fill-color: #666;\n",
              "  }\n",
              "\n",
              "  .colab-df-quickchart {\n",
              "    background-color: var(--bg-color);\n",
              "    border: none;\n",
              "    border-radius: 50%;\n",
              "    cursor: pointer;\n",
              "    display: none;\n",
              "    fill: var(--fill-color);\n",
              "    height: 32px;\n",
              "    padding: 0;\n",
              "    width: 32px;\n",
              "  }\n",
              "\n",
              "  .colab-df-quickchart:hover {\n",
              "    background-color: var(--hover-bg-color);\n",
              "    box-shadow: 0 1px 2px rgba(60, 64, 67, 0.3), 0 1px 3px 1px rgba(60, 64, 67, 0.15);\n",
              "    fill: var(--button-hover-fill-color);\n",
              "  }\n",
              "\n",
              "  .colab-df-quickchart-complete:disabled,\n",
              "  .colab-df-quickchart-complete:disabled:hover {\n",
              "    background-color: var(--disabled-bg-color);\n",
              "    fill: var(--disabled-fill-color);\n",
              "    box-shadow: none;\n",
              "  }\n",
              "\n",
              "  .colab-df-spinner {\n",
              "    border: 2px solid var(--fill-color);\n",
              "    border-color: transparent;\n",
              "    border-bottom-color: var(--fill-color);\n",
              "    animation:\n",
              "      spin 1s steps(1) infinite;\n",
              "  }\n",
              "\n",
              "  @keyframes spin {\n",
              "    0% {\n",
              "      border-color: transparent;\n",
              "      border-bottom-color: var(--fill-color);\n",
              "      border-left-color: var(--fill-color);\n",
              "    }\n",
              "    20% {\n",
              "      border-color: transparent;\n",
              "      border-left-color: var(--fill-color);\n",
              "      border-top-color: var(--fill-color);\n",
              "    }\n",
              "    30% {\n",
              "      border-color: transparent;\n",
              "      border-left-color: var(--fill-color);\n",
              "      border-top-color: var(--fill-color);\n",
              "      border-right-color: var(--fill-color);\n",
              "    }\n",
              "    40% {\n",
              "      border-color: transparent;\n",
              "      border-right-color: var(--fill-color);\n",
              "      border-top-color: var(--fill-color);\n",
              "    }\n",
              "    60% {\n",
              "      border-color: transparent;\n",
              "      border-right-color: var(--fill-color);\n",
              "    }\n",
              "    80% {\n",
              "      border-color: transparent;\n",
              "      border-right-color: var(--fill-color);\n",
              "      border-bottom-color: var(--fill-color);\n",
              "    }\n",
              "    90% {\n",
              "      border-color: transparent;\n",
              "      border-bottom-color: var(--fill-color);\n",
              "    }\n",
              "  }\n",
              "</style>\n",
              "\n",
              "  <script>\n",
              "    async function quickchart(key) {\n",
              "      const quickchartButtonEl =\n",
              "        document.querySelector('#' + key + ' button');\n",
              "      quickchartButtonEl.disabled = true;  // To prevent multiple clicks.\n",
              "      quickchartButtonEl.classList.add('colab-df-spinner');\n",
              "      try {\n",
              "        const charts = await google.colab.kernel.invokeFunction(\n",
              "            'suggestCharts', [key], {});\n",
              "      } catch (error) {\n",
              "        console.error('Error during call to suggestCharts:', error);\n",
              "      }\n",
              "      quickchartButtonEl.classList.remove('colab-df-spinner');\n",
              "      quickchartButtonEl.classList.add('colab-df-quickchart-complete');\n",
              "    }\n",
              "    (() => {\n",
              "      let quickchartButtonEl =\n",
              "        document.querySelector('#df-03c9f0d5-a617-4989-984d-44c02fc4c41c button');\n",
              "      quickchartButtonEl.style.display =\n",
              "        google.colab.kernel.accessAllowed ? 'block' : 'none';\n",
              "    })();\n",
              "  </script>\n",
              "</div>\n",
              "\n",
              "    </div>\n",
              "  </div>\n"
            ],
            "text/plain": [
              "                    0                   1  2\n",
              "0  001/H-S-1-G-01.tif  001/H-S-1-F-01.tif  0\n",
              "1  001/H-S-1-G-02.tif  001/H-S-1-F-01.tif  0\n",
              "2  001/H-S-1-G-03.tif  001/H-S-1-F-01.tif  0\n",
              "3  001/H-S-1-G-04.tif  001/H-S-1-F-01.tif  0\n",
              "4  001/H-S-1-G-05.tif  001/H-S-1-F-01.tif  0"
            ]
          },
          "execution_count": 16,
          "metadata": {},
          "output_type": "execute_result"
        }
      ],
      "source": [
        "pairs.head()"
      ]
    },
    {
      "cell_type": "code",
      "execution_count": null,
      "metadata": {
        "colab": {
          "base_uri": "https://localhost:8080/"
        },
        "id": "hDKWegqzej5u",
        "outputId": "f7d51590-f6f7-4ae7-ebea-fdbb9674c941"
      },
      "outputs": [
        {
          "data": {
            "text/plain": [
              "(8964, 3)"
            ]
          },
          "execution_count": 17,
          "metadata": {},
          "output_type": "execute_result"
        }
      ],
      "source": [
        "pairs.shape"
      ]
    },
    {
      "cell_type": "code",
      "execution_count": null,
      "metadata": {
        "id": "ExLDPUgQej3Q"
      },
      "outputs": [],
      "source": [
        "inp_imgs = []\n",
        "val_imgs = []\n",
        "labels = []"
      ]
    },
    {
      "cell_type": "code",
      "execution_count": null,
      "metadata": {
        "id": "v7INQUqTej2n"
      },
      "outputs": [],
      "source": [
        "for idx, row in pairs.iterrows():\n",
        "  inp = row[0]\n",
        "  val = row[1]\n",
        "  label = row[2]\n",
        "  inp_imgs.append(path+inp)\n",
        "  val_imgs.append(path+val)\n",
        "  labels.append(label)"
      ]
    },
    {
      "cell_type": "code",
      "execution_count": null,
      "metadata": {
        "colab": {
          "base_uri": "https://localhost:8080/"
        },
        "id": "FcgjN4LYejuD",
        "outputId": "9a473b89-aae7-4a9e-e3d4-8d24e9be398b"
      },
      "outputs": [
        {
          "data": {
            "text/plain": [
              "(8964, 8964, 8964)"
            ]
          },
          "execution_count": 20,
          "metadata": {},
          "output_type": "execute_result"
        }
      ],
      "source": [
        "len(inp_imgs), len(val_imgs), len(labels)"
      ]
    },
    {
      "cell_type": "code",
      "execution_count": null,
      "metadata": {
        "id": "PJVoYQZIejq8"
      },
      "outputs": [],
      "source": [
        "# all images will be converted to the same size before processing\n",
        "img_h, img_w = 180, 180"
      ]
    },
    {
      "cell_type": "code",
      "execution_count": null,
      "metadata": {
        "id": "eBgkRQ8dejoD"
      },
      "outputs": [],
      "source": [
        "# Let's visualize original and forged signature of a person\n",
        "\n",
        "def visualize_sample_signature():\n",
        "  fig, (ax1, ax2) = plt.subplots(1, 2, figsize=(20,20))\n",
        "  k = np.random.randint(len(pairs))\n",
        "  inp = inp_imgs[k]\n",
        "  val = val_imgs[k]\n",
        "\n",
        "  # reading the image\n",
        "  inp_img = mpimg.imread(inp)\n",
        "  val_img = mpimg.imread(val)\n",
        "\n",
        "  # displaying the image\n",
        "  ax1.imshow(inp_img, cmap='gray')\n",
        "  ax2.imshow(val_img, cmap='gray')\n",
        "\n",
        "  ax1.set_title('Input Image')\n",
        "  ax2.set_title('Validation Image')\n",
        "  print(f\"Label : {labels[k]}\")"
      ]
    },
    {
      "cell_type": "code",
      "execution_count": null,
      "metadata": {
        "colab": {
          "base_uri": "https://localhost:8080/",
          "height": 206
        },
        "id": "BqyaKFPGejlp",
        "outputId": "50e6e680-d98b-4124-b16c-34b84412c0a6"
      },
      "outputs": [
        {
          "name": "stdout",
          "output_type": "stream",
          "text": [
            "Label : 0\n"
          ]
        },
        {
          "data": {
            "image/png": "[encoded data removed]",
            "text/plain": [
              "<Figure size 2000x2000 with 2 Axes>"
            ]
          },
          "metadata": {},
          "output_type": "display_data"
        }
      ],
      "source": [
        "visualize_sample_signature()"
      ]
    },
    {
      "cell_type": "markdown",
      "metadata": {
        "id": "mvex9pLUDslH"
      },
      "source": [
        "###Preparing data\n",
        "Siamese Network has two identical sub-networks, one for the **input image** and other for the **validation image**.\n",
        "\n",
        "For contrastive loss functions, the dataset should be in the form\n",
        "- (anchor_image,positive_image,1)\n",
        "- (anchor_image,negative_image,0)\n",
        "\n",
        "> Since anchor image and positive image are same, it is similar. So the label is 1\n",
        "\n",
        "> Anchor image and negative image are dis-similar. So the label is 0\n"
      ]
    },
    {
      "cell_type": "code",
      "execution_count": null,
      "metadata": {
        "id": "7kkmkk9bejih"
      },
      "outputs": [],
      "source": [
        "pairs_data = tf.data.Dataset.from_tensor_slices((inp_imgs, val_imgs))\n",
        "pairs_label = tf.data.Dataset.from_tensor_slices(labels)\n",
        "data = tf.data.Dataset.zip((pairs_data, pairs_label))"
      ]
    },
    {
      "cell_type": "code",
      "execution_count": null,
      "metadata": {
        "colab": {
          "base_uri": "https://localhost:8080/"
        },
        "id": "_D6uagioejfq",
        "outputId": "5de6a939-3986-4e8e-f818-672d7ac17adf"
      },
      "outputs": [
        {
          "data": {
            "text/plain": [
              "<ZipDataset element_spec=((TensorSpec(shape=(), dtype=tf.string, name=None), TensorSpec(shape=(), dtype=tf.string, name=None)), TensorSpec(shape=(), dtype=tf.int32, name=None))>"
            ]
          },
          "execution_count": 25,
          "metadata": {},
          "output_type": "execute_result"
        }
      ],
      "source": [
        "data"
      ]
    },
    {
      "cell_type": "code",
      "execution_count": null,
      "metadata": {
        "id": "zCsxMqa2ejc5"
      },
      "outputs": [],
      "source": [
        "# pre-process the data required for contrastive loss\n",
        "\n",
        "def preprocess_image(filename):\n",
        "\n",
        "  image_string = tf.io.read_file(filename)\n",
        "  # Decodes a .tiff encoded image tensor of RGBA format (Output shape-[height,width,4])\n",
        "  image = tfio.experimental.image.decode_tiff(image_string)\n",
        "  # Selecting only the 3 channels of the image - RGB\n",
        "  r, g, b = image[:, :, 0], image[:, :, 1], image[:, :, 2]\n",
        "  # Combines multiple tensors\n",
        "  image = tf.stack([r, g, b], axis = -1)\n",
        "  image = tf.image.resize(image, (180, 180))\n",
        "  return image"
      ]
    },
    {
      "cell_type": "code",
      "execution_count": null,
      "metadata": {
        "colab": {
          "base_uri": "https://localhost:8080/"
        },
        "id": "Im78N0VAejae",
        "outputId": "5eef2d54-0d94-4d98-eab8-824f14fc41a3"
      },
      "outputs": [
        {
          "data": {
            "text/plain": [
              "TensorShape([180, 180, 3])"
            ]
          },
          "execution_count": 27,
          "metadata": {},
          "output_type": "execute_result"
        }
      ],
      "source": [
        "preprocess_image('./signatures/BHSig260/Hindi/001/H-S-1-G-01.tif').shape"
      ]
    },
    {
      "cell_type": "markdown",
      "metadata": {
        "id": "aJNbpzgtIZ5v"
      },
      "source": [
        "**preprocess_image()**\n",
        "\n",
        "- Reads Image\n",
        "- Converts .tiff to tensor\n",
        "- resizes the image to size (180,180)\n",
        "\n",
        "**preprocess_twin**\n",
        "- Returns **(input_image,validation_image,label)**\n",
        "\n"
      ]
    },
    {
      "cell_type": "code",
      "execution_count": null,
      "metadata": {
        "id": "nrdqgLBSejXk"
      },
      "outputs": [],
      "source": [
        "# Function to preprocess image and return the tuple consisting of\n",
        "# (input_image,validation_image,label)\n",
        "\n",
        "def preprocess_twin(img_pair, label):\n",
        "  input_img = img_pair[0]\n",
        "  validation_img = img_pair[1]\n",
        "  return {\n",
        "      'input_img' : preprocess_image(input_img),\n",
        "      'validation_img' : preprocess_image(validation_img)\n",
        "  }, label"
      ]
    },
    {
      "cell_type": "code",
      "execution_count": null,
      "metadata": {
        "id": "3I9EzGIFejVf"
      },
      "outputs": [],
      "source": [
        "example = data.as_numpy_iterator().next()"
      ]
    },
    {
      "cell_type": "code",
      "execution_count": null,
      "metadata": {
        "colab": {
          "base_uri": "https://localhost:8080/"
        },
        "id": "DNEWUtwtejUu",
        "outputId": "60a89d9a-999b-4793-a7f8-0a102e62d66c"
      },
      "outputs": [
        {
          "data": {
            "text/plain": [
              "2"
            ]
          },
          "execution_count": 30,
          "metadata": {},
          "output_type": "execute_result"
        }
      ],
      "source": [
        "len(example)"
      ]
    },
    {
      "cell_type": "code",
      "execution_count": null,
      "metadata": {
        "colab": {
          "base_uri": "https://localhost:8080/"
        },
        "id": "NzUYJZ32ejOd",
        "outputId": "11421a8e-c75d-4df9-d274-d3c120646094"
      },
      "outputs": [
        {
          "data": {
            "text/plain": [
              "((b'./signatures/BHSig260/Hindi/001/H-S-1-G-01.tif',\n",
              "  b'./signatures/BHSig260/Hindi/001/H-S-1-F-01.tif'),\n",
              " 0)"
            ]
          },
          "execution_count": 31,
          "metadata": {},
          "output_type": "execute_result"
        }
      ],
      "source": [
        "example"
      ]
    },
    {
      "cell_type": "markdown",
      "metadata": {
        "id": "r60jnIWKJw8o"
      },
      "source": [
        "Installing tensorflow_io for decoding .tiff images using tensorflow\n",
        "\n",
        "- **.shuffle()** - shuffles the samples in the dataset.\n",
        "\n",
        "- **.map()** - transforms items in the dataset"
      ]
    },
    {
      "cell_type": "code",
      "execution_count": null,
      "metadata": {
        "id": "lmaedC-2ejNw"
      },
      "outputs": [],
      "source": [
        "data = data.map(preprocess_twin)\n",
        "data = data.cache()\n",
        "data = data.shuffle(buffer_size=len(data))"
      ]
    },
    {
      "cell_type": "code",
      "execution_count": null,
      "metadata": {
        "id": "a6G3NIHLejGK"
      },
      "outputs": [],
      "source": [
        "# training partition\n",
        "train_data = data.take(round(len(data)*0.8))\n",
        "train_data = train_data.batch(4)\n",
        "train_data = train_data.prefetch(2)"
      ]
    },
    {
      "cell_type": "code",
      "execution_count": null,
      "metadata": {
        "id": "AvhMvmGtejCg"
      },
      "outputs": [],
      "source": [
        "val_data = data.skip(round(len(data)*0.8))\n",
        "val_data = val_data.take(round(len(data)*0.15))\n",
        "val_data = val_data.batch(4)\n",
        "val_data = val_data.prefetch(2)"
      ]
    },
    {
      "cell_type": "code",
      "execution_count": null,
      "metadata": {
        "id": "YbGOupHwei_o"
      },
      "outputs": [],
      "source": [
        "# testing partition\n",
        "\n",
        "test_data = data.skip(round(len(data)*0.95))\n",
        "test_data = test_data.take(round(len(data)*0.5))\n",
        "test_data = test_data.batch(4)\n",
        "test_data = test_data.prefetch(2)"
      ]
    },
    {
      "cell_type": "code",
      "execution_count": null,
      "metadata": {
        "colab": {
          "base_uri": "https://localhost:8080/"
        },
        "id": "ajb_0XheTLLk",
        "outputId": "eb335f02-e616-4e62-89a1-e262cdaec233"
      },
      "outputs": [
        {
          "data": {
            "text/plain": [
              "(1793, 337, 112)"
            ]
          },
          "execution_count": 36,
          "metadata": {},
          "output_type": "execute_result"
        }
      ],
      "source": [
        "len(train_data), len(val_data), len(test_data)"
      ]
    },
    {
      "cell_type": "code",
      "execution_count": null,
      "metadata": {
        "colab": {
          "base_uri": "https://localhost:8080/"
        },
        "id": "ijaOS2Kqei8w",
        "outputId": "69817f6c-ac22-4750-e259-e0745e6021ca"
      },
      "outputs": [
        {
          "data": {
            "text/plain": [
              "<PrefetchDataset element_spec=({'input_img': TensorSpec(shape=(None, 180, 180, 3), dtype=tf.float32, name=None), 'validation_img': TensorSpec(shape=(None, 180, 180, 3), dtype=tf.float32, name=None)}, TensorSpec(shape=(None,), dtype=tf.int32, name=None))>"
            ]
          },
          "execution_count": 37,
          "metadata": {},
          "output_type": "execute_result"
        }
      ],
      "source": [
        "train_data"
      ]
    },
    {
      "cell_type": "markdown",
      "metadata": {
        "id": "MIs9vYpFTnAZ"
      },
      "source": [
        "## Siamese Network\n",
        "\n",
        "###What should be the base CNN network?\n",
        "- You can create Convolutions network from scratch extract features embeddings from the image.\n",
        "\n",
        "- we can take the advantage of **pretrained models**\n",
        "\n",
        "- Pretrained-models(Transfer learning) - You can also use pre-trained models like VGG16, Resnet50 to extract the feature embeddings.\n",
        "\n",
        "- We will use the  pre-trained model **Resnet50** to train the embeddings to identify similar and dissimilar signatures\n",
        "- ResNet-50 is a CNN that is 50 layers deep. It has been trained on millions of images from imagenet database and handles vanishing gradient problem in very deep CNNs."
      ]
    },
    {
      "cell_type": "code",
      "execution_count": null,
      "metadata": {
        "id": "jjiuU09Xei6M"
      },
      "outputs": [],
      "source": [
        "input_dim = (180, 180, 3)"
      ]
    },
    {
      "cell_type": "code",
      "execution_count": null,
      "metadata": {
        "id": "L6ApyZp_ei3l"
      },
      "outputs": [],
      "source": [
        "img1 = Input(180, 180, 3)\n",
        "img2 = Input(180, 180, 3)\n",
        "e1 = cnn()(img1)\n",
        "e2 = cnn()(img2)\n",
        "\n",
        "model= Model(inputs=[img1, img2], outputs=[e1, e2])"
      ]
    },
    {
      "cell_type": "code",
      "execution_count": null,
      "metadata": {
        "colab": {
          "base_uri": "https://localhost:8080/"
        },
        "id": "2ZYHKwgrei0c",
        "outputId": "af870f9e-9096-4c5d-db94-a6be2baab4b6"
      },
      "outputs": [
        {
          "name": "stdout",
          "output_type": "stream",
          "text": [
            "Downloading data from https://storage.googleapis.com/tensorflow/keras-applications/resnet/resnet50_weights_tf_dim_ordering_tf_kernels_notop.h5\n",
            "94773248/94765736 [==============================] - 1s 0us/step\n",
            "94781440/94765736 [==============================] - 1s 0us/step\n"
          ]
        }
      ],
      "source": [
        "base_cnn = resnet.ResNet50(weights='imagenet', include_top=False, input_shape=input_dim)\n",
        "\n",
        "base_cnn.trainable = False\n",
        "\n",
        "glob_pool = layers.GlobalAveragePooling2D()(base_cnn.output)\n",
        "dense1 = layers.Dense(128)(glob_pool)\n",
        "output = layers.Dense(128)(dense1)\n",
        "\n",
        "embedding = Model(base_cnn.input, output, name='Embedding')\n",
        "\n",
        "# trainable = False\n",
        "# for layer in base_cnn.layers:\n",
        "#     if layer.name == \"conv5_block1_out\":\n",
        "#         trainable = True\n",
        "#     layer.trainable = trainable"
      ]
    },
    {
      "cell_type": "markdown",
      "metadata": {
        "id": "EBIBAKxMYaok"
      },
      "source": [
        "## How to compare the embeddings?:\n",
        "\n",
        "- For that we will distance metric called 'Euclidean distance' to find how similar the two signatures are.\n",
        "\n",
        "- But you can also use Cosine similarity\n",
        "\n",
        "Function to Calculate Euclidean distance to calculate similariity between the input image and the validation image:\n",
        "\n"
      ]
    },
    {
      "cell_type": "code",
      "execution_count": null,
      "metadata": {
        "id": "v1tcAOroeix4"
      },
      "outputs": [],
      "source": [
        "def euclidean_distance(vects):\n",
        "  # compute euclidean distance between two vectors\n",
        "  x, y = vects\n",
        "  return K.sqrt(K.sum(K.square(x - y), axis=1, keepdims=True))"
      ]
    },
    {
      "cell_type": "markdown",
      "metadata": {
        "id": "wHMr--jPcX6e"
      },
      "source": [
        "## Building the Siamese model"
      ]
    },
    {
      "cell_type": "code",
      "execution_count": null,
      "metadata": {
        "colab": {
          "base_uri": "https://localhost:8080/"
        },
        "id": "ct_NUDYNeivP",
        "outputId": "ed37dabe-2c6d-4dd7-934a-8f0151afe7f6"
      },
      "outputs": [
        {
          "name": "stdout",
          "output_type": "stream",
          "text": [
            "Model: \"model\"\n",
            "__________________________________________________________________________________________________\n",
            " Layer (type)                   Output Shape         Param #     Connected to                     \n",
            "==================================================================================================\n",
            " input_img (InputLayer)         [(None, 180, 180, 3  0           []                               \n",
            "                                )]                                                                \n",
            "                                                                                                  \n",
            " validation_img (InputLayer)    [(None, 180, 180, 3  0           []                               \n",
            "                                )]                                                                \n",
            "                                                                                                  \n",
            " Embedding (Functional)         (None, 128)          23866496    ['input_img[0][0]',              \n",
            "                                                                  'validation_img[0][0]']         \n",
            "                                                                                                  \n",
            " lambda (Lambda)                (None, 1)            0           ['Embedding[0][0]',              \n",
            "                                                                  'Embedding[1][0]']              \n",
            "                                                                                                  \n",
            "==================================================================================================\n",
            "Total params: 23,866,496\n",
            "Trainable params: 278,784\n",
            "Non-trainable params: 23,587,712\n",
            "__________________________________________________________________________________________________\n"
          ]
        }
      ],
      "source": [
        "# building model for feature extraction\n",
        "\n",
        "# shape of the input\n",
        "img_a = Input(shape=input_dim, name='input_img')\n",
        "img_b = Input(shape=input_dim, name='validation_img')\n",
        "\n",
        "# extracting embeddings of the image\n",
        "feature_vecs_a = embedding(img_a)\n",
        "feature_vecs_b = embedding(img_b)\n",
        "\n",
        "# calculating euclidean distance between images\n",
        "dist = Lambda(euclidean_distance)([feature_vecs_a, feature_vecs_b])\n",
        "model = Model([img_a, img_b], dist)\n",
        "model.summary()"
      ]
    },
    {
      "cell_type": "code",
      "execution_count": null,
      "metadata": {
        "colab": {
          "base_uri": "https://localhost:8080/",
          "height": 282
        },
        "id": "i4Km5vUZeisK",
        "outputId": "94a90d40-0584-4508-e334-8b39be554e0c"
      },
      "outputs": [
        {
          "data": {
            "image/png": "[encoded data removed]",
            "text/plain": [
              "<IPython.core.display.Image object>"
            ]
          },
          "execution_count": 42,
          "metadata": {},
          "output_type": "execute_result"
        }
      ],
      "source": [
        "# Plotting the architecture of siamese model\n",
        "\n",
        "plot_model(model, to_file='model_plot.png', show_shapes=True, show_layer_names=True, show_layer_activations=True)"
      ]
    },
    {
      "cell_type": "markdown",
      "metadata": {
        "id": "7UVi15bpipMN"
      },
      "source": [
        "### Contrastive Loss and Model performance"
      ]
    },
    {
      "cell_type": "code",
      "execution_count": null,
      "metadata": {
        "id": "-PaIVvhZeinK"
      },
      "outputs": [],
      "source": [
        "def contrastive_loss(y, preds, margin=1):\n",
        "  y = tf.cast(y, preds.dtype)\n",
        "  squared_preds = K.square(preds)\n",
        "  squared_margin = K.square(K.maximum(margin - preds, 0))\n",
        "  loss = K.mean(y * squared_preds + (1 - y) * squared_margin)\n",
        "  return loss"
      ]
    },
    {
      "cell_type": "code",
      "execution_count": null,
      "metadata": {
        "id": "IM2orRukeik1"
      },
      "outputs": [],
      "source": [
        "# training the model with Adam optimizer and Contrastive loss\n",
        "\n",
        "model.compile(loss=contrastive_loss, optimizer='adam')"
      ]
    },
    {
      "cell_type": "code",
      "execution_count": null,
      "metadata": {
        "id": "GGvIhmBqeiiA"
      },
      "outputs": [],
      "source": [
        "!mkdir Weights_binary"
      ]
    },
    {
      "cell_type": "code",
      "execution_count": null,
      "metadata": {
        "id": "oqPc89Lqeifm"
      },
      "outputs": [],
      "source": [
        "callbacks = [\n",
        "    ModelCheckpoint('./Weights_binary/signet-bhsig260-{epoch:03d}.h5', verbose=1, save_weights_only=True)\n",
        "]"
      ]
    },
    {
      "cell_type": "code",
      "execution_count": null,
      "metadata": {
        "colab": {
          "base_uri": "https://localhost:8080/"
        },
        "id": "ZPl_p3xFeict",
        "outputId": "d285bbbb-b091-43cf-cff5-d6a4b0d46078"
      },
      "outputs": [
        {
          "name": "stdout",
          "output_type": "stream",
          "text": [
            "Epoch 1/20\n",
            "50/50 [==============================] - ETA: 0s - loss: 1.6472\n",
            "Epoch 1: saving model to ./Weights_binary/signet-bhsig260-001.h5\n",
            "50/50 [==============================] - 308s 2s/step - loss: 1.6472 - val_loss: 1.0055\n",
            "Epoch 2/20\n",
            "50/50 [==============================] - ETA: 0s - loss: 1.5359\n",
            "Epoch 2: saving model to ./Weights_binary/signet-bhsig260-002.h5\n",
            "50/50 [==============================] - 103s 2s/step - loss: 1.5359 - val_loss: 1.2954\n",
            "Epoch 3/20\n",
            "50/50 [==============================] - ETA: 0s - loss: 0.8826\n",
            "Epoch 3: saving model to ./Weights_binary/signet-bhsig260-003.h5\n",
            "50/50 [==============================] - 103s 2s/step - loss: 0.8826 - val_loss: 0.8667\n",
            "Epoch 4/20\n",
            "50/50 [==============================] - ETA: 0s - loss: 0.9264\n",
            "Epoch 4: saving model to ./Weights_binary/signet-bhsig260-004.h5\n",
            "50/50 [==============================] - 104s 2s/step - loss: 0.9264 - val_loss: 0.6965\n",
            "Epoch 5/20\n",
            "50/50 [==============================] - ETA: 0s - loss: 0.6404\n",
            "Epoch 5: saving model to ./Weights_binary/signet-bhsig260-005.h5\n",
            "50/50 [==============================] - 103s 2s/step - loss: 0.6404 - val_loss: 0.7608\n",
            "Epoch 6/20\n",
            "50/50 [==============================] - ETA: 0s - loss: 0.7107\n",
            "Epoch 6: saving model to ./Weights_binary/signet-bhsig260-006.h5\n",
            "50/50 [==============================] - 103s 2s/step - loss: 0.7107 - val_loss: 0.9483\n",
            "Epoch 7/20\n",
            "50/50 [==============================] - ETA: 0s - loss: 0.5520\n",
            "Epoch 7: saving model to ./Weights_binary/signet-bhsig260-007.h5\n",
            "50/50 [==============================] - 103s 2s/step - loss: 0.5520 - val_loss: 0.4670\n",
            "Epoch 8/20\n",
            "50/50 [==============================] - ETA: 0s - loss: 0.8006\n",
            "Epoch 8: saving model to ./Weights_binary/signet-bhsig260-008.h5\n",
            "50/50 [==============================] - 104s 2s/step - loss: 0.8006 - val_loss: 0.4521\n",
            "Epoch 9/20\n",
            "50/50 [==============================] - ETA: 0s - loss: 0.4139\n",
            "Epoch 9: saving model to ./Weights_binary/signet-bhsig260-009.h5\n",
            "50/50 [==============================] - 102s 2s/step - loss: 0.4139 - val_loss: 0.4160\n",
            "Epoch 10/20\n",
            "50/50 [==============================] - ETA: 0s - loss: 0.3358\n",
            "Epoch 10: saving model to ./Weights_binary/signet-bhsig260-010.h5\n",
            "50/50 [==============================] - 103s 2s/step - loss: 0.3358 - val_loss: 0.4678\n",
            "Epoch 11/20\n",
            "50/50 [==============================] - ETA: 0s - loss: 0.4621\n",
            "Epoch 11: saving model to ./Weights_binary/signet-bhsig260-011.h5\n",
            "50/50 [==============================] - 103s 2s/step - loss: 0.4621 - val_loss: 0.3848\n",
            "Epoch 12/20\n",
            "50/50 [==============================] - ETA: 0s - loss: 0.2249\n",
            "Epoch 12: saving model to ./Weights_binary/signet-bhsig260-012.h5\n",
            "50/50 [==============================] - 103s 2s/step - loss: 0.2249 - val_loss: 0.2742\n",
            "Epoch 13/20\n",
            "50/50 [==============================] - ETA: 0s - loss: 0.3284\n",
            "Epoch 13: saving model to ./Weights_binary/signet-bhsig260-013.h5\n",
            "50/50 [==============================] - 103s 2s/step - loss: 0.3284 - val_loss: 0.2548\n",
            "Epoch 14/20\n",
            "50/50 [==============================] - ETA: 0s - loss: 0.2123\n",
            "Epoch 14: saving model to ./Weights_binary/signet-bhsig260-014.h5\n",
            "50/50 [==============================] - 103s 2s/step - loss: 0.2123 - val_loss: 0.2072\n",
            "Epoch 15/20\n",
            "50/50 [==============================] - ETA: 0s - loss: 0.2296\n",
            "Epoch 15: saving model to ./Weights_binary/signet-bhsig260-015.h5\n",
            "50/50 [==============================] - 104s 2s/step - loss: 0.2296 - val_loss: 0.1799\n",
            "Epoch 16/20\n",
            "50/50 [==============================] - ETA: 0s - loss: 0.1918\n",
            "Epoch 16: saving model to ./Weights_binary/signet-bhsig260-016.h5\n",
            "50/50 [==============================] - 104s 2s/step - loss: 0.1918 - val_loss: 0.1772\n",
            "Epoch 17/20\n",
            "50/50 [==============================] - ETA: 0s - loss: 0.2091\n",
            "Epoch 17: saving model to ./Weights_binary/signet-bhsig260-017.h5\n",
            "50/50 [==============================] - 103s 2s/step - loss: 0.2091 - val_loss: 0.3226\n",
            "Epoch 18/20\n",
            "50/50 [==============================] - ETA: 0s - loss: 0.1976\n",
            "Epoch 18: saving model to ./Weights_binary/signet-bhsig260-018.h5\n",
            "50/50 [==============================] - 104s 2s/step - loss: 0.1976 - val_loss: 0.2017\n",
            "Epoch 19/20\n",
            "50/50 [==============================] - ETA: 0s - loss: 0.1318\n",
            "Epoch 19: saving model to ./Weights_binary/signet-bhsig260-019.h5\n",
            "50/50 [==============================] - 104s 2s/step - loss: 0.1318 - val_loss: 0.1568\n",
            "Epoch 20/20\n",
            "50/50 [==============================] - ETA: 0s - loss: 0.2197\n",
            "Epoch 20: saving model to ./Weights_binary/signet-bhsig260-020.h5\n",
            "50/50 [==============================] - 103s 2s/step - loss: 0.2197 - val_loss: 0.1510\n"
          ]
        }
      ],
      "source": [
        "history = model.fit(\n",
        "    train_data,\n",
        "    steps_per_epoch=50,\n",
        "    epochs=20,\n",
        "    validation_data=val_data,\n",
        "    validation_steps=50,\n",
        "    callbacks=callbacks\n",
        ")"
      ]
    },
    {
      "cell_type": "code",
      "execution_count": null,
      "metadata": {
        "colab": {
          "base_uri": "https://localhost:8080/"
        },
        "id": "AT6f9gjeeiaH",
        "outputId": "afca29c7-d2cb-4e57-ddb7-45a4af2af73c"
      },
      "outputs": [
        {
          "name": "stdout",
          "output_type": "stream",
          "text": [
            "Downloading...\n",
            "From: https://drive.google.com/uc?id=1uuE37aN36fnp5s-7iSLShQSJw9sT_1Vs\n",
            "To: /content/signet-bhsig260-020.h5\n",
            "100% 95.7M/95.7M [00:00<00:00, 110MB/s]\n"
          ]
        }
      ],
      "source": [
        "# Downloading Best Model Weights\n",
        "!gdown 1uuE37aN36fnp5s-7iSLShQSJw9sT_1Vs"
      ]
    },
    {
      "cell_type": "code",
      "execution_count": null,
      "metadata": {
        "id": "cNwEOt8TeiXQ"
      },
      "outputs": [],
      "source": [
        "model.load_weights(\"/content/signet-bhsig260-020.h5\")"
      ]
    },
    {
      "cell_type": "markdown",
      "metadata": {
        "id": "I_YiPNQQQG10"
      },
      "source": [
        "Now, Let's compute the best threshold where the accuracy is maximum.\n",
        "\n",
        "> **Accuracy = (tp + tn) / (tp + tn + fp + fn)**\n",
        "\n",
        "- **TP** stands for True Positive, which is a case where the model correctly predicts a positive class when the true class is positive.\n",
        "\n",
        "- **TN** stands for True Negative, which is a case where the model correctly predicts a negative class when the true class is negative.\n",
        "\n",
        "- **FP** stands for False Positive, which is a case where the model incorrectly predicts a positive class when the true class is negative.\n",
        "\n",
        "- **FN** stands for False Negative, which is a case where the model incorrectly predicts a negative class when the true class is positive.\n",
        "\n",
        "> In other words, TP and TN represent correct predictions, while FP and FN represent incorrect predictions."
      ]
    },
    {
      "cell_type": "code",
      "execution_count": null,
      "metadata": {
        "id": "vH6crOAEeiUa"
      },
      "outputs": [],
      "source": [
        "# Finding out at which threshold, the accuracy is maximum\n",
        "\n",
        "def compute_accuracy_threshold(predictions, labels):\n",
        "\n",
        "  dmax = np.max(predictions)\n",
        "  dmin = np.min(predictions)\n",
        "  nsame = np.sum(labels == 1)\n",
        "  ndiff = np.sum(labels == 0)\n",
        "\n",
        "  step = 0.01\n",
        "  max_acc = 0\n",
        "  best_thresh = -1\n",
        "  best_labels = None\n",
        "\n",
        "  for d in np.arange(dmin, dmax+step, step):\n",
        "        best_labels = (predictions <= d).astype(int)\n",
        "\n",
        "    # Calculate tp, tn, fp, fn using best_labels and ground truth labels\n",
        "        tp = np.sum((best_labels == 1) & (labels == 1))\n",
        "        tn = np.sum((best_labels == 0) & (labels == 0))\n",
        "        fp = np.sum((best_labels == 1) & (labels == 0))\n",
        "        fn = np.sum((best_labels == 0) & (labels == 1))\n",
        "        accuracy = (tp + tn) / (tp + tn + fp + fn)\n",
        "\n",
        "        if accuracy > max_acc:\n",
        "          max_acc = accuracy\n",
        "          best_thresh = d\n",
        "\n",
        "  return max_acc, best_thresh"
      ]
    },
    {
      "cell_type": "code",
      "execution_count": null,
      "metadata": {
        "id": "r3jCNvBIeiRj"
      },
      "outputs": [],
      "source": [
        "# Train predictions\n",
        "pred_train = []\n",
        "\n",
        "# Train y\n",
        "tr_y_train = []"
      ]
    },
    {
      "cell_type": "code",
      "execution_count": null,
      "metadata": {
        "colab": {
          "background_save": true
        },
        "id": "JwSTv2aXeiOb"
      },
      "outputs": [],
      "source": [
        "for i in range(len(train_data)):\n",
        "  img_pair, label = train_data.as_numpy_iterator().next()\n",
        "  tr_y_train.append(label.reshape(-1,1))\n",
        "  pred_train.append(model.predict([img_pair]))"
      ]
    },
    {
      "cell_type": "code",
      "execution_count": null,
      "metadata": {
        "colab": {
          "background_save": true
        },
        "id": "08bEiKM3eiME",
        "outputId": "8c729e10-a90e-4df0-d77b-3f8b4f0b29f2"
      },
      "outputs": [
        {
          "data": {
            "text/plain": [
              "array([[1.5680223 ],\n",
              "       [0.44725856],\n",
              "       [0.89963144],\n",
              "       [0.7412535 ]], dtype=float32)"
            ]
          },
          "execution_count": 53,
          "metadata": {},
          "output_type": "execute_result"
        }
      ],
      "source": [
        "pred_train[0]"
      ]
    },
    {
      "cell_type": "code",
      "execution_count": null,
      "metadata": {
        "colab": {
          "background_save": true
        },
        "id": "7M3cBbbueiJB",
        "outputId": "7cb058ff-8704-4fcc-e9dd-71d6231eb7ab"
      },
      "outputs": [
        {
          "data": {
            "text/plain": [
              "array([[0],\n",
              "       [1],\n",
              "       [0],\n",
              "       [0]], dtype=int32)"
            ]
          },
          "execution_count": 54,
          "metadata": {},
          "output_type": "execute_result"
        }
      ],
      "source": [
        "tr_y_train[0]"
      ]
    },
    {
      "cell_type": "code",
      "execution_count": null,
      "metadata": {
        "colab": {
          "background_save": true
        },
        "id": "BnZMvjSYeiGq",
        "outputId": "ad7c6a4c-176d-4bbc-c3fb-5330c4d66101"
      },
      "outputs": [
        {
          "data": {
            "text/plain": [
              "(0.9219185722253207, 0.7365736979246145)"
            ]
          },
          "execution_count": 55,
          "metadata": {},
          "output_type": "execute_result"
        }
      ],
      "source": [
        "# Train accuracy, threshold\n",
        "\n",
        "tr_acc, threshold = compute_accuracy_threshold(np.array(pred_train), np.array(tr_y_train))\n",
        "tr_acc, threshold"
      ]
    },
    {
      "cell_type": "code",
      "execution_count": null,
      "metadata": {
        "colab": {
          "background_save": true
        },
        "id": "yHniF3HweiEA"
      },
      "outputs": [],
      "source": [
        "# Test predictions\n",
        "pred_test = []\n",
        "pred_test2 = []\n",
        "pred_test3 = []\n",
        "\n",
        "# Test y\n",
        "tr_y_test = []"
      ]
    },
    {
      "cell_type": "code",
      "execution_count": null,
      "metadata": {
        "id": "99mcy9EPeiB6",
        "colab": {
          "base_uri": "https://localhost:8080/"
        },
        "outputId": "f976da26-a559-4556-fdbd-e990cd3d2ee3"
      },
      "outputs": [
        {
          "output_type": "stream",
          "name": "stderr",
          "text": [
            " 47%|████▋     | 53/112 [02:56<03:14,  3.29s/it]"
          ]
        }
      ],
      "source": [
        "from tqdm import tqdm\n",
        "for i in tqdm(range(len(test_data))):\n",
        "  img_pair, label = test_data.as_numpy_iterator().next()\n",
        "  tr_y_test.append(label.reshape(-1, 1))\n",
        "  pred_test.append(model.predict([img_pair]))\n",
        "  pred_test2.append(model.predict([img_pair])[0])\n",
        "  pred_test3.append(model.predict([img_pair])[0][0])"
      ]
    },
    {
      "cell_type": "code",
      "execution_count": null,
      "metadata": {
        "id": "SvyE4dKOgSzO"
      },
      "outputs": [],
      "source": [
        "print(pred_test[0])\n",
        "print(pred_test2[0])\n",
        "print(pred_test3[0])"
      ]
    },
    {
      "cell_type": "code",
      "execution_count": null,
      "metadata": {
        "id": "aSggcaH2eh8f"
      },
      "outputs": [],
      "source": [
        "tr_y_test[0]"
      ]
    },
    {
      "cell_type": "code",
      "execution_count": null,
      "metadata": {
        "id": "EOTu1_OUeh6G"
      },
      "outputs": [],
      "source": [
        "# compute the test accuracy with the train threshold\n",
        "\n",
        "def compute_accuracy_thresh_test(predictions, labels, d):\n",
        "\n",
        "  best_labels = (predictions <= d).astype(int)\n",
        "  tp = np.sum((best_labels == 1) & (labels == 1))\n",
        "  tn = np.sum((best_labels == 0) & (labels == 0))\n",
        "  fp = np.sum((best_labels == 1) & (labels == 0))\n",
        "  fn = np.sum((best_labels == 0) & (labels == 1))\n",
        "  accuracy = (tp + tn) / (tp + tn + fp + fn)\n",
        "\n",
        "  return accuracy"
      ]
    },
    {
      "cell_type": "code",
      "execution_count": null,
      "metadata": {
        "id": "J4NNX9Y5eh3f"
      },
      "outputs": [],
      "source": [
        "# Test Accuracy\n",
        "test_acc= compute_accuracy_thresh_test(np.array(pred_test), np.array(tr_y_test),threshold)\n",
        "test_acc"
      ]
    },
    {
      "cell_type": "markdown",
      "metadata": {
        "id": "edvP-1bGn4TR"
      },
      "source": [
        "### Prediction on test image pairs"
      ]
    },
    {
      "cell_type": "code",
      "execution_count": null,
      "metadata": {
        "id": "kY0zxULNeh1J"
      },
      "outputs": [],
      "source": [
        "def predict_score():\n",
        "  '''Predict distance score and classify test images as Genuine or Forged'''\n",
        "  test_point, test_label = test_data.as_numpy_iterator().next()\n",
        "  img1, img2 = test_point['input_img'][0], test_point['validation_img'][0]\n",
        "\n",
        "  fig, (ax1, ax2) = plt.subplots(1, 2, figsize=(10, 10))\n",
        "  ax1.imshow(img1.astype('uint8'), cmap='gray')\n",
        "  ax2.imshow(img2.astype('uint8'), cmap='gray')\n",
        "\n",
        "  ax1.set_title('Genuine')\n",
        "  if test_label[0] == 1:\n",
        "    ax2.set_title('Genuine')\n",
        "  else:\n",
        "    ax2.set_title('Forged')\n",
        "    ax1.axis('off')\n",
        "    ax2.axis('off')\n",
        "    plt.show()\n",
        "\n",
        "  result = model.predict([test_point])\n",
        "  diff = result[0][0]\n",
        "  print(\"Difference Score = \", diff)\n",
        "  if diff > threshold:\n",
        "    print(\"Its a Forged Signature\")\n",
        "  else:\n",
        "    print(\"Its a Genuine Signature\")"
      ]
    },
    {
      "cell_type": "code",
      "execution_count": null,
      "metadata": {
        "id": "b3Q_BtQxehuH"
      },
      "outputs": [],
      "source": [
        "predict_score()"
      ]
    },
    {
      "cell_type": "code",
      "execution_count": null,
      "metadata": {
        "id": "ND_rU2huehsE"
      },
      "outputs": [],
      "source": [
        "predict_score()"
      ]
    },
    {
      "cell_type": "code",
      "execution_count": null,
      "metadata": {
        "id": "TcBj15BEehpb"
      },
      "outputs": [],
      "source": [
        "predict_score()"
      ]
    },
    {
      "cell_type": "code",
      "execution_count": null,
      "metadata": {
        "id": "_Q1q32ZFehnI"
      },
      "outputs": [],
      "source": [
        "predict_score()"
      ]
    },
    {
      "cell_type": "code",
      "execution_count": null,
      "metadata": {
        "id": "z2YMVHwYehkx"
      },
      "outputs": [],
      "source": [
        "# train loss vs validation loss\n",
        "\n",
        "plt.plot(history.history['loss'], label='Train Loss')\n",
        "plt.plot(history.history['val_loss'], label='Validation Loss')\n",
        "plt.legend()\n",
        "plt.show()"
      ]
    },
    {
      "cell_type": "markdown",
      "metadata": {
        "id": "fvMeA_4AopvS"
      },
      "source": [
        "**Train Accuracy**: 92%\n",
        "\n",
        "**Test Accuracy**: 63%\n",
        "\n",
        "**Threshold**: 0.73\n",
        "\n",
        "\n",
        "> As we discussed above, Contrastive loss requires 2 inputs, **(anchor, positive)** or **(anchor, negative)**.\n"
      ]
    },
    {
      "cell_type": "markdown",
      "metadata": {
        "id": "7S__GSx5osOI"
      },
      "source": [
        "# **Triplet Loss**"
      ]
    },
    {
      "cell_type": "code",
      "execution_count": null,
      "metadata": {
        "id": "XkehPBjtehi2"
      },
      "outputs": [],
      "source": [
        "def triplet_loss(x):\n",
        "  # Initialize alpha value\n",
        "  alpha = 0.5\n",
        "  # Getting anchor, positive and negative embeddings\n",
        "  anchor, positive, negative = x\n",
        "  # Calculating distance between anchor and positive\n",
        "  positive_distance = K.mean(K.square(anchor - positive), axis=-1)\n",
        "  # Calculating distance between anchor and negative\n",
        "  negative_distance = K.mean(K.square(anchor - negative), axis=-1)\n",
        "  # Implement the formula\n",
        "  return K.mean(K.maximum(0.0, positive_distance - negative_distance + alpha))"
      ]
    },
    {
      "cell_type": "markdown",
      "metadata": {
        "id": "wWONOcJFsTuZ"
      },
      "source": [
        "- In triplet loss, we need images in the form of triplets (anchor,positive,negative) where anchor and postive are similar and negative is different.\n",
        "- We will build a **tf.data()** pipeline to build the dataset required for triplet loss\n",
        "\n",
        "- Now we know that triplet loss requires **anchor**,**positive** and **negative**, lets prepare the dataset"
      ]
    },
    {
      "cell_type": "code",
      "execution_count": null,
      "metadata": {
        "id": "WMBKpye6ehiI"
      },
      "outputs": [],
      "source": [
        "# Collecting Anchor, positive and negative images\n",
        "anchor_images = []\n",
        "positive_images = []\n",
        "negative_images = []"
      ]
    },
    {
      "cell_type": "code",
      "execution_count": null,
      "metadata": {
        "id": "QdGpBS4FehbG"
      },
      "outputs": [],
      "source": [
        "# Consists of all forgery images\n",
        "forg_groups_all = reduce(lambda x,y:x+y,forged_groups)"
      ]
    },
    {
      "cell_type": "markdown",
      "metadata": {
        "id": "VjJXDW6AtIjZ"
      },
      "source": [
        "- We will use a simple loop to prepare the dataset\n",
        "\n",
        "- **orig_groups** contains signatures for 160 persons, each person with 24 signatures.\n",
        "\n",
        "- We know that anchor and positive should be similar, but with the same person.\n",
        "\n",
        "- We will use **orig_groups** for anchor and positive images.\n",
        "\n",
        "- **forg_groups** contains forgery signatures for all 160 persons.\n",
        "\n",
        "- Since negative image should be different from **anchor** and **positive**. We will randomly pick a image from **forg_groups** and it will be negative for the triplet."
      ]
    },
    {
      "cell_type": "code",
      "execution_count": null,
      "metadata": {
        "id": "5HnJoVDpehYw"
      },
      "outputs": [],
      "source": [
        "def get_triplets():\n",
        "  for i in range(len(orig_groups)):\n",
        "    orig_gp = orig_groups[i]\n",
        "    forg_gp = forged_groups[i]\n",
        "    for j in range(len(orig_gp)):\n",
        "      for k in range(j+1, len(orig_gp)):\n",
        "        anchor = orig_gp[j]\n",
        "        positive = orig_gp[k]\n",
        "        negative = forg_groups_all[np.random.randint(len(forg_groups_all))]\n",
        "        anchor_images.append(anchor)\n",
        "        positive_images.append(positive)\n",
        "        negative_images.append(negative)"
      ]
    },
    {
      "cell_type": "code",
      "execution_count": null,
      "metadata": {
        "id": "dyNBAAoDehWZ"
      },
      "outputs": [],
      "source": [
        "get_triplets()"
      ]
    },
    {
      "cell_type": "code",
      "execution_count": null,
      "metadata": {
        "id": "UD_2UB1-ehT0"
      },
      "outputs": [],
      "source": [
        "len(anchor_images), len(positive_images), len(negative_images)"
      ]
    },
    {
      "cell_type": "code",
      "execution_count": null,
      "metadata": {
        "id": "bMU-6GXPehQ9"
      },
      "outputs": [],
      "source": [
        "print(anchor_images[0])\n",
        "print(positive_images[0])\n",
        "print(negative_images[0])"
      ]
    },
    {
      "cell_type": "code",
      "execution_count": null,
      "metadata": {
        "id": "wErhpXdIehOq"
      },
      "outputs": [],
      "source": [
        "# Displaying a sample of anchor, positive and negative images\n",
        "\n",
        "k = np.random.randint(len(anchor_images))\n",
        "a = anchor_images[k]\n",
        "p = positive_images[k]\n",
        "n = negative_images[k]\n",
        "img1 = mpimg.imread(a)\n",
        "img2 = mpimg.imread(p)\n",
        "img3 = mpimg.imread(n)"
      ]
    },
    {
      "cell_type": "code",
      "execution_count": null,
      "metadata": {
        "id": "zz7vfVkUehMC"
      },
      "outputs": [],
      "source": [
        "# Anchor Image\n",
        "\n",
        "print(\"Anchor Image\")\n",
        "plt.imshow(img1)"
      ]
    },
    {
      "cell_type": "code",
      "execution_count": null,
      "metadata": {
        "id": "ue1RTWarehJY"
      },
      "outputs": [],
      "source": [
        "# Positive Image\n",
        "\n",
        "print(\"Positive Image\")\n",
        "plt.imshow(img2)"
      ]
    },
    {
      "cell_type": "code",
      "execution_count": null,
      "metadata": {
        "id": "rSWBhLO9ehHD"
      },
      "outputs": [],
      "source": [
        "# Negative Image\n",
        "\n",
        "print(\"Negative Image\")\n",
        "plt.imshow(img3)"
      ]
    },
    {
      "cell_type": "code",
      "execution_count": null,
      "metadata": {
        "id": "-fJAtfNAehEL"
      },
      "outputs": [],
      "source": [
        "len(anchor_images)"
      ]
    },
    {
      "cell_type": "code",
      "execution_count": null,
      "metadata": {
        "id": "S_nqggLiehCC"
      },
      "outputs": [],
      "source": [
        "anchor_dataset = tf.data.Dataset.from_tensor_slices(anchor_images[:30000])\n",
        "positive_dataset = tf.data.Dataset.from_tensor_slices(positive_images[:30000])\n",
        "negative_dataset = tf.data.Dataset.from_tensor_slices(negative_images[:30000])"
      ]
    },
    {
      "cell_type": "code",
      "execution_count": null,
      "metadata": {
        "id": "adzq1TSEehBX"
      },
      "outputs": [],
      "source": [
        "dataset = tf.data.Dataset.zip((anchor_dataset, positive_dataset, negative_dataset))"
      ]
    },
    {
      "cell_type": "code",
      "execution_count": null,
      "metadata": {
        "id": "LWADTYSNeg60"
      },
      "outputs": [],
      "source": [
        "dataset"
      ]
    },
    {
      "cell_type": "code",
      "execution_count": null,
      "metadata": {
        "id": "GBr2gu0Aeg4j"
      },
      "outputs": [],
      "source": [
        "dataset.as_numpy_iterator().next()"
      ]
    },
    {
      "cell_type": "markdown",
      "metadata": {
        "id": "EnwdMSTMqKTK"
      },
      "source": [
        "**preprocess_image()** - Load the specified file as a JPEG image, preprocess it and resize it to the target shape.\n",
        "\n",
        "**preprocess_triplets** - Preprocess the image and return as a triplet"
      ]
    },
    {
      "cell_type": "code",
      "execution_count": null,
      "metadata": {
        "id": "fuVwJNiqeg25"
      },
      "outputs": [],
      "source": [
        "def preprocess_tripets(anchor, positive, negative):\n",
        "  return [\n",
        "      preprocess_image(anchor),\n",
        "      preprocess_image(positive),\n",
        "      preprocess_image(negative)\n",
        "  ]"
      ]
    },
    {
      "cell_type": "code",
      "execution_count": null,
      "metadata": {
        "id": "RND3uQvDeg04"
      },
      "outputs": [],
      "source": [
        "# Sample triplet of anchor, positive, negative\n",
        "\n",
        "sample = dataset.as_numpy_iterator().next()"
      ]
    },
    {
      "cell_type": "code",
      "execution_count": null,
      "metadata": {
        "id": "Wy7aIZE3egxK"
      },
      "outputs": [],
      "source": [
        "sample"
      ]
    },
    {
      "cell_type": "markdown",
      "metadata": {
        "id": "QRDXu1jJTeXw"
      },
      "source": [
        "- **.shuffle()** - shuffles the samples in the dataset.\n",
        "\n",
        "- **.map()** - transforms items in the dataset"
      ]
    },
    {
      "cell_type": "code",
      "execution_count": null,
      "metadata": {
        "id": "uso24cO5egu3"
      },
      "outputs": [],
      "source": [
        "dataset = dataset.shuffle(buffer_size=len(dataset))\n",
        "dataset = dataset.map(preprocess_tripets)"
      ]
    },
    {
      "cell_type": "code",
      "execution_count": null,
      "metadata": {
        "id": "fu6TpwT7egrE"
      },
      "outputs": [],
      "source": [
        "# Taking 80% of dataset as training, 15% for validation and 5% for testing\n",
        "\n",
        "# Training part\n",
        "train_data = dataset.take(round(len(dataset) * 0.8))\n",
        "train_data = train_data.batch(8)\n",
        "train_data = train_data.prefetch(4)\n",
        "\n",
        "# Validation part\n",
        "val_data = dataset.skip(round(len(dataset) * 0.8))\n",
        "val_data = val_data.take(round(len(dataset) * 0.15))\n",
        "val_data = val_data.batch(8)\n",
        "val_data = val_data.prefetch(4)\n",
        "\n",
        "# Testing part\n",
        "test_data = dataset.skip(round(len(dataset) * 0.95))\n",
        "test_data = test_data.take(round(len(dataset) * 0.5))\n",
        "test_data = test_data.batch(8)\n",
        "test_data = test_data.prefetch(4)"
      ]
    },
    {
      "cell_type": "code",
      "execution_count": null,
      "metadata": {
        "id": "fMa-M6LRegoo"
      },
      "outputs": [],
      "source": [
        "len(train_data), len(val_data), len(test_data)"
      ]
    },
    {
      "cell_type": "code",
      "execution_count": null,
      "metadata": {
        "id": "pBGKLfXTegmh"
      },
      "outputs": [],
      "source": [
        "example = train_data.as_numpy_iterator().next()"
      ]
    },
    {
      "cell_type": "code",
      "execution_count": null,
      "metadata": {
        "id": "5Q3wQEn7egkO"
      },
      "outputs": [],
      "source": [
        "example"
      ]
    },
    {
      "cell_type": "code",
      "execution_count": null,
      "metadata": {
        "id": "TeDFN1sregiI"
      },
      "outputs": [],
      "source": [
        "# Visualize a few triplets from the supply batches\n",
        "\n",
        "def visualize(triplets):\n",
        "  # def show(ax, image):\n",
        "  #   ax.imshow(image)\n",
        "  #   ax.get_xaxis().set_visible(False)\n",
        "  #   ax.get_yaxis().set_visible(False)\n",
        "\n",
        "  fig = plt.figure(figsize=(30, 40))\n",
        "\n",
        "  # show(axs[0, 0], np.clip(triplet[0][0],0,1))\n",
        "  # show(axs[0, 1], np.clip(triplet[1][0],0,1))\n",
        "  # show(axs[0, 2], np.clip(triplet[2][0],0,1))\n",
        "\n",
        "  plt.subplot(1,3,1)\n",
        "  plt.imshow(triplets[0][0].astype('uint8'))\n",
        "\n",
        "  plt.subplot(1,3,2)\n",
        "  plt.imshow(triplets[1][0].astype('uint8'))\n",
        "\n",
        "  plt.subplot(1,3,3)\n",
        "  plt.imshow(triplets[2][0].astype('uint8'))"
      ]
    },
    {
      "cell_type": "code",
      "execution_count": null,
      "metadata": {
        "id": "6S6kQ-l-eggR"
      },
      "outputs": [],
      "source": [
        "sample = train_data.as_numpy_iterator().next()\n",
        "len(sample), len(sample[0])"
      ]
    },
    {
      "cell_type": "code",
      "execution_count": null,
      "metadata": {
        "id": "ueBn5iCfegeb"
      },
      "outputs": [],
      "source": [
        "visualize(sample)"
      ]
    },
    {
      "cell_type": "markdown",
      "metadata": {
        "id": "Ko9PYT73fLMg"
      },
      "source": [
        "Now lets build the Base CNN for extracting embeddings from the images\n",
        "\n",
        "As we know that, we can build the Base CNN using the following ways\n",
        "\n",
        " - CNN from scratch\n",
        " - Using Pre-trained models (Transfer learning)\n",
        "\n",
        "For contrastive loss, we had used ResNet-50 as Base CNN to extract embedding. Now lets use the same embeddings\n",
        "\n",
        "**Note:** Try different pre-trained models to check the performance of the model"
      ]
    },
    {
      "cell_type": "markdown",
      "metadata": {
        "id": "29L9yZs3hmCJ"
      },
      "source": [
        "# Siamese network with Pretrained model and Triplet loss"
      ]
    },
    {
      "cell_type": "code",
      "execution_count": null,
      "metadata": {
        "id": "25D-EnTfegcV"
      },
      "outputs": [],
      "source": [
        "target_shape = (180, 180, 3)"
      ]
    },
    {
      "cell_type": "code",
      "execution_count": null,
      "metadata": {
        "id": "dzsL5FVgegYr"
      },
      "outputs": [],
      "source": [
        "# Embedding\n",
        "\n",
        "base_cnn = resnet.ResNet50(weights='imagenet', include_top=False, input_shape=target_shape)\n",
        "\n",
        "base_cnn.trainable = False\n",
        "\n",
        "glob_pool = layers.GlobalAveragePooling2D()(base_cnn.output)\n",
        "dense1 = layers.Dense(128)(glob_pool)\n",
        "dense2 = layers.Dropout(0.2)(dense1)\n",
        "output = layers.Dense(128)(dense2)\n",
        "\n",
        "embedding = Model(base_cnn.input, output, name='Embedding')\n",
        "embedding.summary()"
      ]
    },
    {
      "cell_type": "code",
      "execution_count": null,
      "metadata": {
        "id": "a7vKSrhHegW9"
      },
      "outputs": [],
      "source": [
        "# Inputs for anchor, positive and negative images\n",
        "anchor_in = Input(name='anchor', shape=target_shape)\n",
        "pos_in = Input(name='positive', shape=target_shape)\n",
        "neg_in = Input(name='negative', shape=target_shape)\n",
        "\n",
        "# Extract embeddings using the base_cnn\n",
        "anchor_out = embedding(anchor_in)\n",
        "pos_out = embedding(pos_in)\n",
        "neg_out = embedding(neg_in)\n",
        "\n",
        "# Difine the model\n",
        "model_triplet_loss = Model(inputs=[anchor_in, pos_in, neg_in], outputs=[anchor_out, pos_out, neg_out])\n",
        "\n",
        "model_triplet_loss.summary()"
      ]
    },
    {
      "cell_type": "code",
      "execution_count": null,
      "metadata": {
        "id": "i5rzDQ9MegWY"
      },
      "outputs": [],
      "source": [
        "plot_model(model_triplet_loss, to_file='model_triplet_loss_plot.png',show_shapes=True, show_layer_names=True )"
      ]
    },
    {
      "cell_type": "code",
      "execution_count": null,
      "metadata": {
        "id": "Rf4OzwM8eXFb"
      },
      "outputs": [],
      "source": [
        "class SiameseModel(Model):\n",
        "\n",
        "  \"\"\"The Siamese Network model with a custom training and testing loops.\n",
        "\n",
        "    Computes the triplet loss using the three embeddings produced by the\n",
        "    Siamese Network.\n",
        "\n",
        "    The triplet loss is defined as:\n",
        "       L(A, P, N) = max(‖f(A) - f(P)‖² - ‖f(A) - f(N)‖² + margin, 0)\n",
        "  \"\"\"\n",
        "\n",
        "  def __init__(self, siamese_network, margin=0.5):\n",
        "    super().__init__()\n",
        "    self.siamese_network = siamese_network\n",
        "    self.margin = margin\n",
        "    self.loss_tracker = metrics.Mean(name='loss')\n",
        "\n",
        "  def call(self, inputs):\n",
        "    return self.siamese_network(inputs)\n",
        "\n",
        "  def train_step(self, data):\n",
        "    # GradientTape is a context manager that records every operation that\n",
        "    # you do inside. We are using it here to compute the loss so we can get\n",
        "    # the gradients and apply them using the optimizer specified in\n",
        "    # `compile()`.\n",
        "\n",
        "    with tf.GradientTape() as tape:\n",
        "\n",
        "      loss = self._compute_loss(data)\n",
        "\n",
        "      # Storing the gradients of the loss function with respect to the\n",
        "      # weights/parameters.\n",
        "      gradients = tape.gradient(loss, self.siamese_network.trainable_weights)\n",
        "\n",
        "      # Applying the gradients on the model using the specified optimizer\n",
        "      self.optimizer.apply_gradients(\n",
        "          zip(gradients, self.siamese_network.trainable_weights)\n",
        "      )\n",
        "\n",
        "      # Lets update and return the training loss metric\n",
        "      self.loss_tracker.update_state(loss)\n",
        "      return {'loss' : self.loss_tracker.result()}\n",
        "\n",
        "  def test_step(self, data):\n",
        "    loss = self._compute_loss(data)\n",
        "\n",
        "    # Lets update and return the loss metric\n",
        "    self.loss_tracker.update_state(loss)\n",
        "    return {'loss' : self.loss_tracker.result()}\n",
        "\n",
        "  def _compute_loss(self, data):\n",
        "    # Computing Triplet Loss\n",
        "    anchor, positive, negative = self.siamese_network(data)\n",
        "\n",
        "    # Computing the Triplet Loss by subtracting both distances and\n",
        "    # making sure we don't get a negative value.\n",
        "    pos_dist = tf.reduce_sum(tf.square(anchor - positive), -1)\n",
        "    neg_dist = tf.reduce_sum(tf.square(anchor - negative), -1)\n",
        "    loss = pos_dist - neg_dist + self.margin\n",
        "    loss = tf.maximum(0.0, loss)\n",
        "    return loss\n",
        "\n",
        "  @property\n",
        "  def metrics(self):\n",
        "    return [self.loss_tracker]"
      ]
    },
    {
      "cell_type": "code",
      "execution_count": null,
      "metadata": {
        "id": "w01PtR9whbsW"
      },
      "outputs": [],
      "source": [
        "siamese_model = SiameseModel(model_triplet_loss)\n",
        "\n",
        "siamese_model.compile(optimizer=Adam(learning_rate=0.0001))"
      ]
    },
    {
      "cell_type": "code",
      "execution_count": null,
      "metadata": {
        "id": "JeDNy8aMhbqD",
        "colab": {
          "base_uri": "https://localhost:8080/"
        },
        "outputId": "77690b69-7385-4651-c57a-c2ff6c33cc3f"
      },
      "outputs": [
        {
          "output_type": "stream",
          "name": "stdout",
          "text": [
            "Epoch 1/8\n",
            "375/375 [==============================] - 2113s 6s/step - loss: 0.1938 - val_loss: 0.1328\n",
            "Epoch 2/8\n",
            "375/375 [==============================] - 2109s 6s/step - loss: 0.0702 - val_loss: 0.1368\n",
            "Epoch 3/8\n",
            "375/375 [==============================] - 2076s 6s/step - loss: 0.0732 - val_loss: 0.0551\n",
            "Epoch 4/8\n",
            "375/375 [==============================] - 2072s 6s/step - loss: 0.0548 - val_loss: 0.0691\n",
            "Epoch 5/8\n",
            "375/375 [==============================] - 2066s 6s/step - loss: 0.0512 - val_loss: 0.0224\n",
            "Epoch 6/8\n",
            "375/375 [==============================] - 2065s 6s/step - loss: 0.0438 - val_loss: 0.0180\n",
            "Epoch 7/8\n",
            "375/375 [==============================] - 2111s 6s/step - loss: 0.0338 - val_loss: 0.0309\n",
            "Epoch 8/8\n",
            "186/375 [=============>................] - ETA: 11:04 - loss: 0.0537"
          ]
        }
      ],
      "source": [
        "# Training the model with triplet loss\n",
        "\n",
        "history = siamese_model.fit(train_data,\n",
        "                            validation_data=val_data,\n",
        "                            steps_per_epoch=len(train_data)//8,\n",
        "                            validation_steps=len(val_data)//8,\n",
        "                            epochs=8\n",
        "                            )"
      ]
    },
    {
      "cell_type": "code",
      "execution_count": null,
      "metadata": {
        "id": "t0HaUVsOhbm-"
      },
      "outputs": [],
      "source": [
        "# Test data 1 batch (8 triplets)\n",
        "ex = test_data.as_numpy_iterator().next()"
      ]
    },
    {
      "cell_type": "code",
      "execution_count": null,
      "metadata": {
        "id": "5hJNg-_BhblH"
      },
      "outputs": [],
      "source": [
        "# Prediction on the batch\n",
        "pred = model_triplet_loss.predict(ex)"
      ]
    },
    {
      "cell_type": "code",
      "execution_count": null,
      "metadata": {
        "id": "77YPmLIwhbkD"
      },
      "outputs": [],
      "source": [
        "# Anchor_embedding, Positive_embedding, Negative_embedding\n",
        "len(pred)"
      ]
    },
    {
      "cell_type": "markdown",
      "metadata": {
        "id": "RplFPUe2KGEH"
      },
      "source": [
        "- At this point, we can check how the network learned to separate the embeddings depending on whether they belong to similar images.\n",
        "\n",
        "- We can use **Euclidean Distance** to measure the similarity between embeddings.\n",
        "\n",
        "- Let's pick a batch from the test dataset to check the similarity between the embeddings generated for each image.\n",
        "\n",
        "- Finally, we can compute the Euclidean between the anchor and positive images and compare it with the similarity between the anchor and the negative images.\n",
        "\n",
        "- We should expect the similarity between the anchor and positive images to be larger than the similarity between the anchor and the negative images."
      ]
    },
    {
      "cell_type": "code",
      "execution_count": null,
      "metadata": {
        "id": "UOJ6DjnmhbdF"
      },
      "outputs": [],
      "source": [
        "from sklearn.metrics.pairwise import euclidean_distances as L2"
      ]
    },
    {
      "cell_type": "code",
      "execution_count": null,
      "metadata": {
        "id": "30BWOLPOhbb-"
      },
      "outputs": [],
      "source": [
        "# distance between anchor and positive\n",
        "pos = L2(pred[0][0].reshape(1, -1), pred[1][0].reshape(1, -1))\n",
        "# distance between anchor and negative\n",
        "neg = L2(pred[0][0].reshape(1, -1), pred[2][0].reshape(1, -1))"
      ]
    },
    {
      "cell_type": "code",
      "execution_count": null,
      "metadata": {
        "id": "Uoc8s7U9hbUb"
      },
      "outputs": [],
      "source": [
        "pos, neg"
      ]
    },
    {
      "cell_type": "code",
      "execution_count": null,
      "metadata": {
        "id": "DqkpTa5ahbTX"
      },
      "outputs": [],
      "source": [
        "# Lets calculate euclidean distance of 8 triplets\n",
        "\n",
        "pos_pred = []\n",
        "neg_pred = []\n",
        "\n",
        "\n",
        "for i in range(len(pred[0])):\n",
        "  # Distance between anchor anf positive\n",
        "  pos = L2(pred[0][i].reshape(1,-1),pred[1][i].reshape(1,-1))[0][0]\n",
        "  # Distance between anchor and negative\n",
        "  neg = L2(pred[0][i].reshape(1,-1),pred[2][i].reshape(1,-1))[0][0]\n",
        "  pos_pred.append(pos)\n",
        "  neg_pred.append(neg)"
      ]
    },
    {
      "cell_type": "code",
      "execution_count": null,
      "metadata": {
        "id": "0dYP-E46hbLg"
      },
      "outputs": [],
      "source": [
        "test_pred = pd.DataFrame({'Anchor-positive':pos_pred, 'Anchor-negative':neg_pred})\n",
        "test_pred.head()"
      ]
    },
    {
      "cell_type": "code",
      "execution_count": null,
      "metadata": {
        "id": "DPcX-ul2hbI7"
      },
      "outputs": [],
      "source": [
        "import seaborn as sns\n",
        "import matplotlib.pyplot as plt"
      ]
    },
    {
      "cell_type": "code",
      "execution_count": null,
      "metadata": {
        "id": "WjJc2iDkhbFz"
      },
      "outputs": [],
      "source": [
        "plt.figure(figsize=(20, 6))\n",
        "sns.boxplot(x='value', y='variable', data=pd.melt(test_pred[['Anchor-positive', 'Anchor-negative']]))\n",
        "plt.rc('font', size=20)\n",
        "plt.show()"
      ]
    },
    {
      "cell_type": "code",
      "execution_count": null,
      "metadata": {
        "id": "vv_Y0Eb-hbDF"
      },
      "outputs": [],
      "source": [
        "# Threshold of 2.5 gives correct decisions 75% of the time, so let's go with that.\n",
        "# You can try out different values as well.\n",
        "\n",
        "len(test_pred[(test_pred['Anchor-positive'] < 2.5) & (test_pred['Anchor-negative'] > 2.5)]) / len(test_pred)"
      ]
    },
    {
      "cell_type": "markdown",
      "metadata": {
        "id": "Ye4T9cyaUdWQ"
      },
      "source": [
        "### Extraction of Embeddings Model from Siamese Network\n",
        "Since we don't want to use the three input-three output siamese model every time we are required to create embeddings, we will extract the embeddings network from the model and use it to create embeddings for our future tasks"
      ]
    },
    {
      "cell_type": "code",
      "execution_count": null,
      "metadata": {
        "id": "GYpH9GxjhbAK"
      },
      "outputs": [],
      "source": [
        "model_triplet_loss.layers"
      ]
    },
    {
      "cell_type": "code",
      "execution_count": null,
      "metadata": {
        "id": "2f3kMm9gha-o"
      },
      "outputs": [],
      "source": [
        "signature_embeddings = model_triplet_loss.layers[-1]"
      ]
    },
    {
      "cell_type": "code",
      "execution_count": null,
      "metadata": {
        "id": "L86UbGj9ha9h"
      },
      "outputs": [],
      "source": [
        "signature_embeddings.save('embeddings_triplet_loss.h5')"
      ]
    },
    {
      "cell_type": "code",
      "execution_count": null,
      "metadata": {
        "id": "Yf3lQZhChazM"
      },
      "outputs": [],
      "source": [
        "signature_embeddings.save_weights('embeddings_triplet_loss_weights.h5')"
      ]
    },
    {
      "cell_type": "code",
      "execution_count": null,
      "metadata": {
        "id": "wIx3_lCMhayD"
      },
      "outputs": [],
      "source": [
        "# Downloading best model and weights\n",
        "\n",
        "!gdown 1FLM_wpWtyxQAuUv_a4f0_KsPyUlJD251\n",
        "!gdown 19-QvHIZ4hDea8etuIAAnIaM81_g6XymA"
      ]
    },
    {
      "cell_type": "code",
      "execution_count": null,
      "metadata": {
        "id": "ZndfyUibhaso"
      },
      "outputs": [],
      "source": [
        "# Loading\n",
        "signature_embeddings = tf.keras.models.load_model(\"/content/embeddings_triplet_loss.h5\")\n",
        "signature_embeddings.load_weights(\"/content/embeddings_triplet_loss_weights.h5\")"
      ]
    },
    {
      "cell_type": "markdown",
      "metadata": {
        "id": "8STahsSZXL9c"
      },
      "source": [
        "Now let's use the image pairs from Hindi_pairs.txt, to compute the accuracy and the threshold"
      ]
    },
    {
      "cell_type": "code",
      "execution_count": null,
      "metadata": {
        "id": "MhbMae5Hharj"
      },
      "outputs": [],
      "source": [
        "pred_distances = []"
      ]
    },
    {
      "cell_type": "code",
      "execution_count": null,
      "metadata": {
        "id": "U84OswgZhafY"
      },
      "outputs": [],
      "source": [
        "for i in range(len(imp_imgs)):\n",
        "  inp_feat = preprocess_image(inp_imgs[i])\n",
        "  val_feat = preprocess_image(val_imgs[i])\n",
        "  res = L2(signature_embeddings.predict(np.expand_dims(inp_feat,axis=0)),signature_embeddings.predict(np.expand_dims(val_feat,axis=0)))\n",
        "  pred_distances.append(res)"
      ]
    },
    {
      "cell_type": "code",
      "execution_count": null,
      "metadata": {
        "id": "nmHWzLvEhacc"
      },
      "outputs": [],
      "source": [
        "len(pred_distances)"
      ]
    },
    {
      "cell_type": "code",
      "execution_count": null,
      "metadata": {
        "id": "LWxWpyeLhaZg"
      },
      "outputs": [],
      "source": [
        "pairs['distance'] = pred_distances"
      ]
    },
    {
      "cell_type": "code",
      "execution_count": null,
      "metadata": {
        "id": "-gkNZZW4haWu"
      },
      "outputs": [],
      "source": [
        "distances = []"
      ]
    },
    {
      "cell_type": "code",
      "execution_count": null,
      "metadata": {
        "id": "x3mjHYzshaUR"
      },
      "outputs": [],
      "source": [
        "for idx, row in pairs.iterrows():\n",
        "  dist = row['distance'][0][0]\n",
        "  distances.append(dist)"
      ]
    },
    {
      "cell_type": "code",
      "execution_count": null,
      "metadata": {
        "id": "0CSIGo3ihaRU"
      },
      "outputs": [],
      "source": [
        "pairs['distance'] = distances"
      ]
    },
    {
      "cell_type": "code",
      "execution_count": null,
      "metadata": {
        "id": "F96056nxhaOo"
      },
      "outputs": [],
      "source": [
        "pairs.head()"
      ]
    },
    {
      "cell_type": "code",
      "execution_count": null,
      "metadata": {
        "id": "-EYsaPd3haMA"
      },
      "outputs": [],
      "source": [
        "pairs.to_csv(\"pairs_new.csv\")"
      ]
    },
    {
      "cell_type": "code",
      "execution_count": null,
      "metadata": {
        "id": "bJy_4ElzhaJJ"
      },
      "outputs": [],
      "source": [
        "pairs_new = pd.read_csv(\"pairs_new.csv\")"
      ]
    },
    {
      "cell_type": "code",
      "execution_count": null,
      "metadata": {
        "id": "uBRfhh-ZhaGj"
      },
      "outputs": [],
      "source": [
        "pairs_new"
      ]
    },
    {
      "cell_type": "code",
      "execution_count": null,
      "metadata": {
        "id": "OxxgN8TjhaEx"
      },
      "outputs": [],
      "source": [
        "genuine_imgs = pairs_new[pairs_new.iloc[:,3]==1].values\n",
        "forgery_imgs = pairs_new[pairs_new.iloc[:,3]==0].values"
      ]
    },
    {
      "cell_type": "code",
      "execution_count": null,
      "metadata": {
        "id": "t0nGsOXwhaDx"
      },
      "outputs": [],
      "source": [
        "genuine_imgs"
      ]
    },
    {
      "cell_type": "code",
      "execution_count": null,
      "metadata": {
        "id": "oRP2ySa5hZ8g"
      },
      "outputs": [],
      "source": [
        "forgery_imgs"
      ]
    },
    {
      "cell_type": "markdown",
      "metadata": {
        "id": "ACLHBN0Gb8Hr"
      },
      "source": [
        "## Now lets visualize the embeddings"
      ]
    },
    {
      "cell_type": "code",
      "execution_count": null,
      "metadata": {
        "id": "3IlV4T5ghZ7Z"
      },
      "outputs": [],
      "source": []
    },
    {
      "cell_type": "code",
      "execution_count": null,
      "metadata": {
        "id": "zw-MtzpWb5cZ"
      },
      "outputs": [],
      "source": []
    },
    {
      "cell_type": "code",
      "execution_count": null,
      "metadata": {
        "id": "Vst6iw5kb5aT"
      },
      "outputs": [],
      "source": []
    },
    {
      "cell_type": "code",
      "execution_count": null,
      "metadata": {
        "id": "k0kDdAAwb5X1"
      },
      "outputs": [],
      "source": []
    },
    {
      "cell_type": "code",
      "execution_count": null,
      "metadata": {
        "id": "OvSqJ6Gqb5VF"
      },
      "outputs": [],
      "source": []
    },
    {
      "cell_type": "code",
      "execution_count": null,
      "metadata": {
        "id": "z7shzMlrb5Se"
      },
      "outputs": [],
      "source": []
    },
    {
      "cell_type": "code",
      "execution_count": null,
      "metadata": {
        "id": "Lf84kxUcb5O8"
      },
      "outputs": [],
      "source": []
    },
    {
      "cell_type": "code",
      "execution_count": null,
      "metadata": {
        "id": "yQdfcMnSb5Mw"
      },
      "outputs": [],
      "source": []
    },
    {
      "cell_type": "code",
      "execution_count": null,
      "metadata": {
        "id": "OzbZgwPLb5KQ"
      },
      "outputs": [],
      "source": []
    },
    {
      "cell_type": "code",
      "execution_count": null,
      "metadata": {
        "id": "O2XxASxsb5H3"
      },
      "outputs": [],
      "source": []
    },
    {
      "cell_type": "code",
      "execution_count": null,
      "metadata": {
        "id": "lPCj-QGlb5FP"
      },
      "outputs": [],
      "source": []
    },
    {
      "cell_type": "code",
      "execution_count": null,
      "metadata": {
        "id": "ik4l0MEmb5Cl"
      },
      "outputs": [],
      "source": []
    },
    {
      "cell_type": "code",
      "execution_count": null,
      "metadata": {
        "id": "y_J5HY-Gb5An"
      },
      "outputs": [],
      "source": []
    },
    {
      "cell_type": "code",
      "execution_count": null,
      "metadata": {
        "id": "Vh54S_p8b4_O"
      },
      "outputs": [],
      "source": []
    },
    {
      "cell_type": "code",
      "execution_count": null,
      "metadata": {
        "id": "eyJD4fOHb4-A"
      },
      "outputs": [],
      "source": []
    },
    {
      "cell_type": "code",
      "execution_count": null,
      "metadata": {
        "id": "IZ073QA0hZwM"
      },
      "outputs": [],
      "source": []
    },
    {
      "cell_type": "code",
      "execution_count": null,
      "metadata": {
        "id": "URMb6IukhZfh"
      },
      "outputs": [],
      "source": []
    },
    {
      "cell_type": "code",
      "execution_count": null,
      "metadata": {
        "id": "djpEmCQghZeY"
      },
      "outputs": [],
      "source": []
    }
  ],
  "metadata": {
    "colab": {
      "provenance": []
    },
    "kernelspec": {
      "display_name": "Python 3",
      "name": "python3"
    },
    "language_info": {
      "name": "python"
    }
  },
  "nbformat": 4,
  "nbformat_minor": 0
}